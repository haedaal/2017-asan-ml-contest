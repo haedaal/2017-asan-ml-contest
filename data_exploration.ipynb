{
 "cells": [
  {
   "cell_type": "code",
   "execution_count": 32,
   "metadata": {
    "collapsed": false,
    "deletable": true,
    "editable": true
   },
   "outputs": [],
   "source": [
    "import dicom\n",
    "import inspect\n",
    "import pylab\n",
    "import numpy as np\n",
    "from glob import glob\n",
    "import os\n",
    "\n",
    "import matplotlib\n",
    "import matplotlib.pyplot as plt\n",
    "\n",
    "from keras.models import *\n",
    "from keras.layers import *\n",
    "from keras.optimizers import *\n",
    "from keras.utils.np_utils import to_categorical\n",
    "from keras.preprocessing.image import ImageDataGenerator\n",
    "\n",
    "import math\n",
    "from sys import stdout\n",
    "\n",
    "from utils.preprocess import *\n",
    "from utils.data_manager import *\n",
    "from skimage import measure, morphology\n",
    "from scipy import ndimage"
   ]
  },
  {
   "cell_type": "code",
   "execution_count": 40,
   "metadata": {
    "collapsed": true,
    "deletable": true,
    "editable": true
   },
   "outputs": [],
   "source": [
    "stats={}"
   ]
  },
  {
   "cell_type": "code",
   "execution_count": 124,
   "metadata": {
    "collapsed": false,
    "deletable": true,
    "editable": true,
    "scrolled": false
   },
   "outputs": [
    {
     "name": "stdout",
     "output_type": "stream",
     "text": [
      "file data/benign001.npy mask cover 1.00%\n",
      "file data/benign002.npy mask cover 1.00%\n",
      "file data/benign003.npy mask cover 1.00%\n",
      "file data/benign004.npy mask cover 1.00%\n",
      "file data/benign005.npy mask cover 1.00%\n",
      "file data/benign006.npy mask cover 1.00%\n",
      "file data/benign007.npy mask cover 1.00%\n",
      "file data/benign008.npy mask cover 0.72%\n",
      "file data/benign009.npy mask cover 1.00%\n",
      "file data/benign010.npy mask cover 1.00%\n",
      "file data/benign011.npy mask cover 1.00%\n",
      "file data/benign012.npy mask cover 0.68%\n",
      "file data/benign013.npy mask cover 1.00%\n",
      "file data/benign014.npy mask cover 1.00%\n",
      "file data/benign015.npy mask cover 1.00%\n",
      "file data/benign016.npy mask cover 1.00%\n",
      "file data/benign017.npy mask cover 1.00%\n",
      "file data/benign018.npy mask cover 0.98%\n",
      "file data/benign019.npy mask cover 1.00%\n",
      "file data/benign020.npy mask cover 1.00%\n",
      "file data/benign021.npy mask cover 0.99%\n",
      "file data/benign022.npy mask cover 1.00%\n",
      "file data/benign023.npy mask cover 1.00%\n",
      "file data/benign024.npy mask cover 0.99%\n",
      "file data/benign025.npy mask cover 1.00%\n",
      "file data/benign026.npy mask cover 1.00%\n",
      "file data/benign027.npy mask cover 1.00%\n",
      "file data/benign028.npy mask cover 1.00%\n",
      "file data/benign029.npy mask cover 1.00%\n",
      "file data/benign030.npy mask cover 1.00%\n"
     ]
    },
    {
     "ename": "KeyboardInterrupt",
     "evalue": "",
     "output_type": "error",
     "traceback": [
      "\u001b[0;31m---------------------------------------------------------------------------\u001b[0m",
      "\u001b[0;31mKeyboardInterrupt\u001b[0m                         Traceback (most recent call last)",
      "\u001b[0;32m<ipython-input-124-6c2602a8d359>\u001b[0m in \u001b[0;36m<module>\u001b[0;34m()\u001b[0m\n\u001b[1;32m      1\u001b[0m \u001b[0mstats\u001b[0m\u001b[0;34m[\u001b[0m\u001b[0;34m'missed'\u001b[0m\u001b[0;34m]\u001b[0m \u001b[0;34m=\u001b[0m \u001b[0;34m[\u001b[0m\u001b[0;34m]\u001b[0m\u001b[0;34m\u001b[0m\u001b[0m\n\u001b[1;32m      2\u001b[0m \u001b[0;32mfor\u001b[0m \u001b[0mfile\u001b[0m \u001b[0;32min\u001b[0m \u001b[0msorted\u001b[0m\u001b[0;34m(\u001b[0m\u001b[0mglob\u001b[0m\u001b[0;34m(\u001b[0m\u001b[0;34m'data/*'\u001b[0m\u001b[0;34m)\u001b[0m\u001b[0;34m)\u001b[0m\u001b[0;34m:\u001b[0m\u001b[0;34m\u001b[0m\u001b[0m\n\u001b[0;32m----> 3\u001b[0;31m     \u001b[0mfcontent\u001b[0m \u001b[0;34m=\u001b[0m \u001b[0mnp\u001b[0m\u001b[0;34m.\u001b[0m\u001b[0mload\u001b[0m\u001b[0;34m(\u001b[0m\u001b[0mfile\u001b[0m\u001b[0;34m)\u001b[0m\u001b[0;34m\u001b[0m\u001b[0m\n\u001b[0m\u001b[1;32m      4\u001b[0m     \u001b[0mmask_3d\u001b[0m\u001b[0;34m=\u001b[0m \u001b[0mfcontent\u001b[0m\u001b[0;34m.\u001b[0m\u001b[0mall\u001b[0m\u001b[0;34m(\u001b[0m\u001b[0;34m)\u001b[0m\u001b[0;34m[\u001b[0m\u001b[0;34m'mask'\u001b[0m\u001b[0;34m]\u001b[0m\u001b[0;34m\u001b[0m\u001b[0m\n\u001b[1;32m      5\u001b[0m     \u001b[0mdilated\u001b[0m \u001b[0;34m=\u001b[0m \u001b[0mndimage\u001b[0m\u001b[0;34m.\u001b[0m\u001b[0mbinary_dilation\u001b[0m\u001b[0;34m(\u001b[0m\u001b[0mmask_3d\u001b[0m\u001b[0;34m,\u001b[0m \u001b[0miterations\u001b[0m\u001b[0;34m=\u001b[0m\u001b[0;36m1\u001b[0m\u001b[0;34m)\u001b[0m\u001b[0;34m\u001b[0m\u001b[0m\n",
      "\u001b[0;32m/home/haedaal/.local/lib/python3.5/site-packages/numpy/lib/npyio.py\u001b[0m in \u001b[0;36mload\u001b[0;34m(file, mmap_mode, allow_pickle, fix_imports, encoding)\u001b[0m\n\u001b[1;32m    417\u001b[0m             \u001b[0;32melse\u001b[0m\u001b[0;34m:\u001b[0m\u001b[0;34m\u001b[0m\u001b[0m\n\u001b[1;32m    418\u001b[0m                 return format.read_array(fid, allow_pickle=allow_pickle,\n\u001b[0;32m--> 419\u001b[0;31m                                          pickle_kwargs=pickle_kwargs)\n\u001b[0m\u001b[1;32m    420\u001b[0m         \u001b[0;32melse\u001b[0m\u001b[0;34m:\u001b[0m\u001b[0;34m\u001b[0m\u001b[0m\n\u001b[1;32m    421\u001b[0m             \u001b[0;31m# Try a pickle\u001b[0m\u001b[0;34m\u001b[0m\u001b[0;34m\u001b[0m\u001b[0m\n",
      "\u001b[0;32m/home/haedaal/.local/lib/python3.5/site-packages/numpy/lib/format.py\u001b[0m in \u001b[0;36mread_array\u001b[0;34m(fp, allow_pickle, pickle_kwargs)\u001b[0m\n\u001b[1;32m    638\u001b[0m             \u001b[0mpickle_kwargs\u001b[0m \u001b[0;34m=\u001b[0m \u001b[0;34m{\u001b[0m\u001b[0;34m}\u001b[0m\u001b[0;34m\u001b[0m\u001b[0m\n\u001b[1;32m    639\u001b[0m         \u001b[0;32mtry\u001b[0m\u001b[0;34m:\u001b[0m\u001b[0;34m\u001b[0m\u001b[0m\n\u001b[0;32m--> 640\u001b[0;31m             \u001b[0marray\u001b[0m \u001b[0;34m=\u001b[0m \u001b[0mpickle\u001b[0m\u001b[0;34m.\u001b[0m\u001b[0mload\u001b[0m\u001b[0;34m(\u001b[0m\u001b[0mfp\u001b[0m\u001b[0;34m,\u001b[0m \u001b[0;34m**\u001b[0m\u001b[0mpickle_kwargs\u001b[0m\u001b[0;34m)\u001b[0m\u001b[0;34m\u001b[0m\u001b[0m\n\u001b[0m\u001b[1;32m    641\u001b[0m         \u001b[0;32mexcept\u001b[0m \u001b[0mUnicodeError\u001b[0m \u001b[0;32mas\u001b[0m \u001b[0merr\u001b[0m\u001b[0;34m:\u001b[0m\u001b[0;34m\u001b[0m\u001b[0m\n\u001b[1;32m    642\u001b[0m             \u001b[0;32mif\u001b[0m \u001b[0msys\u001b[0m\u001b[0;34m.\u001b[0m\u001b[0mversion_info\u001b[0m\u001b[0;34m[\u001b[0m\u001b[0;36m0\u001b[0m\u001b[0;34m]\u001b[0m \u001b[0;34m>=\u001b[0m \u001b[0;36m3\u001b[0m\u001b[0;34m:\u001b[0m\u001b[0;34m\u001b[0m\u001b[0m\n",
      "\u001b[0;31mKeyboardInterrupt\u001b[0m: "
     ]
    }
   ],
   "source": [
    "stats['missed'] = []\n",
    "for file in sorted(glob('data/*')):\n",
    "    fcontent = np.load(file)\n",
    "    mask_3d= fcontent.all()['mask']\n",
    "    dilated = ndimage.binary_dilation(mask_3d, iterations=1)\n",
    "    roi = ndimage.binary_dilation(fcontent.all()['tag'][:,:,:,ROI], iterations=1)\n",
    "    covered = np.sum(dilated & roi) / np.sum(dilated)\n",
    "    if (covered < 0.9):\n",
    "        stats['missed'].append({'filename':file, 'coverage': covered})\n",
    "    print('file %s mask cover %.2f%%' % (file, covered))"
   ]
  },
  {
   "cell_type": "code",
   "execution_count": 99,
   "metadata": {
    "collapsed": true,
    "deletable": true,
    "editable": true
   },
   "outputs": [],
   "source": [
    "def inspect():\n",
    "    for missed in stats['missed']:\n",
    "        fcontent = np.load(missed)\n",
    "        mask_3d= fcontent.all()['mask']\n",
    "        dilated = ndimage.binary_dilation(mask_3d, iterations=2)\n",
    "        roi = fcontent.all()['tag'][:,:,:,ROI]\n",
    "        yield missed, mask_3d, roi"
   ]
  },
  {
   "cell_type": "code",
   "execution_count": 100,
   "metadata": {
    "collapsed": true,
    "deletable": true,
    "editable": true
   },
   "outputs": [],
   "source": [
    "gen = inspect()"
   ]
  },
  {
   "cell_type": "code",
   "execution_count": 102,
   "metadata": {
    "collapsed": false,
    "deletable": true,
    "editable": true
   },
   "outputs": [
    {
     "name": "stdout",
     "output_type": "stream",
     "text": [
      "data/benign012.npy\n"
     ]
    },
    {
     "data": {
      "image/png": "[encoded data removed]",
      "text/plain": [
       "<matplotlib.figure.Figure at 0x7ff4f68f84a8>"
      ]
     },
     "metadata": {},
     "output_type": "display_data"
    }
   ],
   "source": [
    "missed, mask, roi = next(gen)\n",
    "num_slices = mask.shape[0]\n",
    "plt.figure(figsize=(16, 12*((num_slices-1) / 6) + 12))\n",
    "print(missed)\n",
    "for i in range(num_slices):\n",
    "    image = ((mask[i]>0) * 3) + (roi[i] * 1)\n",
    "    plt.subplot((num_slices-1 / 6) +1, 6, i+1)\n",
    "    plt.imshow(image)\n",
    "plt.show()"
   ]
  },
  {
   "cell_type": "code",
   "execution_count": 98,
   "metadata": {
    "collapsed": false,
    "deletable": true,
    "editable": true
   },
   "outputs": [
    {
     "data": {
      "image/png": "[encoded data removed]",
      "text/plain": [
       "<matplotlib.figure.Figure at 0x7ff4f65d4748>"
      ]
     },
     "metadata": {},
     "output_type": "display_data"
    }
   ],
   "source": [
    "p = np.load('data/benign012.npy').all()\n",
    "mask = p['mask']\n",
    "roi = p['tag'][:,:,:,ROI]\n",
    "num_slices = mask.shape[0]\n",
    "plt.figure(figsize=(16, 12*((num_slices-1) / 6) + 12))\n",
    "for i in range(mask.shape[0]):\n",
    "    image = (roi[i] * 1) + ((mask[i] >0) * 2)\n",
    "    plt.subplot((num_slices-1 / 6) +1, 6, i+1)\n",
    "    plt.imshow(image)\n",
    "plt.show()"
   ]
  },
  {
   "cell_type": "code",
   "execution_count": 105,
   "metadata": {
    "collapsed": false,
    "deletable": true,
    "editable": true
   },
   "outputs": [
    {
     "data": {
      "text/plain": [
       "{'missed': ['data/malign094.npy',\n",
       "  'data/malign095.npy',\n",
       "  'data/malign102.npy',\n",
       "  'data/malign128.npy',\n",
       "  'data/malign162.npy',\n",
       "  'data/malign165.npy',\n",
       "  'data/malign172.npy',\n",
       "  'data/malign186.npy',\n",
       "  'data/malign187.npy',\n",
       "  'data/malign199.npy',\n",
       "  'data/malign225.npy',\n",
       "  'data/malign256.npy',\n",
       "  'data/malign262.npy',\n",
       "  'data/malign264.npy',\n",
       "  'data/malign291.npy',\n",
       "  'data/malign323.npy']}"
      ]
     },
     "execution_count": 105,
     "metadata": {},
     "output_type": "execute_result"
    }
   ],
   "source": [
    "stats"
   ]
  },
  {
   "cell_type": "code",
   "execution_count": 113,
   "metadata": {
    "collapsed": false,
    "deletable": true,
    "editable": true
   },
   "outputs": [
    {
     "name": "stdout",
     "output_type": "stream",
     "text": [
      "file data/malign094.npy mask cover 1.00%\n",
      "file data/malign095.npy mask cover 1.00%\n",
      "file data/malign102.npy mask cover 1.00%\n",
      "file data/malign128.npy mask cover 1.00%\n",
      "file data/malign162.npy mask cover 1.00%\n",
      "file data/malign165.npy mask cover 1.00%\n",
      "file data/malign172.npy mask cover 1.00%\n",
      "file data/malign186.npy mask cover 1.00%\n",
      "file data/malign187.npy mask cover 1.00%\n",
      "file data/malign199.npy mask cover 1.00%\n",
      "file data/malign225.npy mask cover 1.00%\n",
      "file data/malign256.npy mask cover 1.00%\n",
      "file data/malign262.npy mask cover 1.00%\n",
      "file data/malign264.npy mask cover 1.00%\n",
      "file data/malign291.npy mask cover 1.00%\n",
      "file data/malign323.npy mask cover 1.00%\n"
     ]
    }
   ],
   "source": [
    "for file in stats['missed']:\n",
    "    fcontent = np.load(file)\n",
    "    mask_3d= fcontent.all()['mask']\n",
    "    dilated = ndimage.binary_dilation(mask_3d, iterations=1)\n",
    "    roi = ndimage.binary_dilation(fcontent.all()['tag'][:,:,:,ROI], iterations=0)\n",
    "    covered = np.sum(dilated & roi) / np.sum(dilated)\n",
    "    print('file %s mask cover %.2f%%' % (file, covered))"
   ]
  },
  {
   "cell_type": "code",
   "execution_count": 122,
   "metadata": {
    "collapsed": false,
    "deletable": true,
    "editable": true
   },
   "outputs": [
    {
     "data": {
      "text/plain": [
       "array([[False, False,  True, False, False],\n",
       "       [False,  True,  True,  True, False],\n",
       "       [ True,  True,  True,  True,  True],\n",
       "       [False,  True,  True,  True, False],\n",
       "       [False, False,  True, False, False]], dtype=bool)"
      ]
     },
     "execution_count": 122,
     "metadata": {},
     "output_type": "execute_result"
    }
   ],
   "source": [
    "ndimage.binary_dilation(np.array([[0,0,0,0,0],[0,0,0,0,0],[0,0,1,0,0],[0,0,0,0,0],[0,0,0,0,0]]), iterations=2)"
   ]
  },
  {
   "cell_type": "code",
   "execution_count": 157,
   "metadata": {
    "collapsed": true,
    "deletable": true,
    "editable": true
   },
   "outputs": [],
   "source": [
    "testdata = sorted(glob('testdata/*'))"
   ]
  },
  {
   "cell_type": "code",
   "execution_count": 167,
   "metadata": {
    "collapsed": false,
    "deletable": true,
    "editable": true
   },
   "outputs": [
    {
     "name": "stdout",
     "output_type": "stream",
     "text": [
      "file data/malign001.npy mask cover 1.00 area: 133 regions: 1 max size: 1 18 16\n",
      "file data/malign002.npy mask cover 1.00 area: 1361 regions: 1 max size: 2 47 42\n",
      "file data/malign003.npy mask cover 1.00 area: 1868 regions: 1 max size: 4 29 42\n",
      "file data/malign004.npy mask cover 1.00 area: 950 regions: 1 max size: 3 30 33\n",
      "file data/malign005.npy mask cover 0.83 area: 2277 regions: 1 max size: 4 43 36\n",
      "file data/malign006.npy mask cover 1.00 area: 218 regions: 1 max size: 1 31 24\n",
      "file data/malign007.npy mask cover 0.97 area: 434 regions: 2 max size: 2 22 26\n",
      "file data/malign008.npy mask cover 1.00 area: 930 regions: 1 max size: 2 29 29\n",
      "file data/malign009.npy mask cover 1.00 area: 920 regions: 1 max size: 1 36 46\n",
      "file data/malign010.npy mask cover 0.98 area: 745 regions: 1 max size: 3 34 25\n",
      "file data/malign011.npy mask cover 1.00 area: 311 regions: 1 max size: 2 22 19\n",
      "file data/malign012.npy mask cover 1.00 area: 1859 regions: 1 max size: 5 46 49\n",
      "file data/malign013.npy mask cover 1.00 area: 1057 regions: 1 max size: 3 31 42\n",
      "file data/malign014.npy mask cover 1.00 area: 878 regions: 1 max size: 3 33 28\n"
     ]
    },
    {
     "ename": "KeyboardInterrupt",
     "evalue": "",
     "output_type": "error",
     "traceback": [
      "\u001b[0;31m---------------------------------------------------------------------------\u001b[0m",
      "\u001b[0;31mKeyboardInterrupt\u001b[0m                         Traceback (most recent call last)",
      "\u001b[0;32m<ipython-input-167-208c97c79f3d>\u001b[0m in \u001b[0;36m<module>\u001b[0;34m()\u001b[0m\n\u001b[1;32m      1\u001b[0m \u001b[0msss\u001b[0m \u001b[0;34m=\u001b[0m \u001b[0;34m[\u001b[0m\u001b[0;34m]\u001b[0m\u001b[0;34m\u001b[0m\u001b[0m\n\u001b[1;32m      2\u001b[0m \u001b[0;32mfor\u001b[0m \u001b[0mfile\u001b[0m \u001b[0;32min\u001b[0m \u001b[0mtestdata\u001b[0m\u001b[0;34m:\u001b[0m\u001b[0;34m\u001b[0m\u001b[0m\n\u001b[0;32m----> 3\u001b[0;31m     \u001b[0mfcontent\u001b[0m \u001b[0;34m=\u001b[0m \u001b[0mnp\u001b[0m\u001b[0;34m.\u001b[0m\u001b[0mload\u001b[0m\u001b[0;34m(\u001b[0m\u001b[0mfile\u001b[0m\u001b[0;34m)\u001b[0m\u001b[0;34m\u001b[0m\u001b[0m\n\u001b[0m\u001b[1;32m      4\u001b[0m     \u001b[0mmask_3d\u001b[0m\u001b[0;34m=\u001b[0m \u001b[0mfcontent\u001b[0m\u001b[0;34m.\u001b[0m\u001b[0mall\u001b[0m\u001b[0;34m(\u001b[0m\u001b[0;34m)\u001b[0m\u001b[0;34m[\u001b[0m\u001b[0;34m'mask'\u001b[0m\u001b[0;34m]\u001b[0m\u001b[0;34m\u001b[0m\u001b[0m\n\u001b[1;32m      5\u001b[0m \u001b[0;31m#    dilated = ndimage.binary_dilation(mask_3d, iterations=1)\u001b[0m\u001b[0;34m\u001b[0m\u001b[0;34m\u001b[0m\u001b[0m\n",
      "\u001b[0;32m/home/haedaal/.local/lib/python3.5/site-packages/numpy/lib/npyio.py\u001b[0m in \u001b[0;36mload\u001b[0;34m(file, mmap_mode, allow_pickle, fix_imports, encoding)\u001b[0m\n\u001b[1;32m    417\u001b[0m             \u001b[0;32melse\u001b[0m\u001b[0;34m:\u001b[0m\u001b[0;34m\u001b[0m\u001b[0m\n\u001b[1;32m    418\u001b[0m                 return format.read_array(fid, allow_pickle=allow_pickle,\n\u001b[0;32m--> 419\u001b[0;31m                                          pickle_kwargs=pickle_kwargs)\n\u001b[0m\u001b[1;32m    420\u001b[0m         \u001b[0;32melse\u001b[0m\u001b[0;34m:\u001b[0m\u001b[0;34m\u001b[0m\u001b[0m\n\u001b[1;32m    421\u001b[0m             \u001b[0;31m# Try a pickle\u001b[0m\u001b[0;34m\u001b[0m\u001b[0;34m\u001b[0m\u001b[0m\n",
      "\u001b[0;32m/home/haedaal/.local/lib/python3.5/site-packages/numpy/lib/format.py\u001b[0m in \u001b[0;36mread_array\u001b[0;34m(fp, allow_pickle, pickle_kwargs)\u001b[0m\n\u001b[1;32m    638\u001b[0m             \u001b[0mpickle_kwargs\u001b[0m \u001b[0;34m=\u001b[0m \u001b[0;34m{\u001b[0m\u001b[0;34m}\u001b[0m\u001b[0;34m\u001b[0m\u001b[0m\n\u001b[1;32m    639\u001b[0m         \u001b[0;32mtry\u001b[0m\u001b[0;34m:\u001b[0m\u001b[0;34m\u001b[0m\u001b[0m\n\u001b[0;32m--> 640\u001b[0;31m             \u001b[0marray\u001b[0m \u001b[0;34m=\u001b[0m \u001b[0mpickle\u001b[0m\u001b[0;34m.\u001b[0m\u001b[0mload\u001b[0m\u001b[0;34m(\u001b[0m\u001b[0mfp\u001b[0m\u001b[0;34m,\u001b[0m \u001b[0;34m**\u001b[0m\u001b[0mpickle_kwargs\u001b[0m\u001b[0;34m)\u001b[0m\u001b[0;34m\u001b[0m\u001b[0m\n\u001b[0m\u001b[1;32m    641\u001b[0m         \u001b[0;32mexcept\u001b[0m \u001b[0mUnicodeError\u001b[0m \u001b[0;32mas\u001b[0m \u001b[0merr\u001b[0m\u001b[0;34m:\u001b[0m\u001b[0;34m\u001b[0m\u001b[0m\n\u001b[1;32m    642\u001b[0m             \u001b[0;32mif\u001b[0m \u001b[0msys\u001b[0m\u001b[0;34m.\u001b[0m\u001b[0mversion_info\u001b[0m\u001b[0;34m[\u001b[0m\u001b[0;36m0\u001b[0m\u001b[0;34m]\u001b[0m \u001b[0;34m>=\u001b[0m \u001b[0;36m3\u001b[0m\u001b[0;34m:\u001b[0m\u001b[0;34m\u001b[0m\u001b[0m\n",
      "\u001b[0;31mKeyboardInterrupt\u001b[0m: "
     ]
    }
   ],
   "source": [
    "sss = []\n",
    "for file in testdata:\n",
    "    fcontent = np.load(file)\n",
    "    mask_3d= fcontent.all()['mask']\n",
    "#    dilated = ndimage.binary_dilation(mask_3d, iterations=1)\n",
    "    dilated = mask_3d > 0\n",
    "    label = measure.label(dilated)\n",
    "    region = measure.regionprops(label)\n",
    "    region.sort(key = lambda r : -r.area)\n",
    "    \n",
    "    bbox = region[0].bbox\n",
    "    size = np.array(bbox[3:]) - np.array(bbox[:3])\n",
    "    \n",
    "#    roi = ndimage.binary_dilation(fcontent.all()['tag'][:,:,:,ROI], iterations=1)\n",
    "    roi = fcontent.all()['tag'][:,:,:,ROI]\n",
    "    covered = np.sum(dilated & roi) / np.sum(dilated)\n",
    "    string = 'file %s mask cover %.2f area: %d regions: %d max size: %d %d %d' % tuple([file, covered, region[0].area, len(region)] + list(size))\n",
    "    print(string)\n",
    "    sss.append(string)\n",
    "    "
   ]
  },
  {
   "cell_type": "code",
   "execution_count": 163,
   "metadata": {
    "collapsed": false,
    "deletable": true,
    "editable": true
   },
   "outputs": [
    {
     "name": "stdout",
     "output_type": "stream",
     "text": [
      "file data/malign001.npy mask cover 1.00 area: 467 regions: 1 max size: 3 20 18\n",
      "file data/malign002.npy mask cover 1.00 area: 3748 regions: 1 max size: 4 49 44\n",
      "file data/malign003.npy mask cover 1.00 area: 3425 regions: 1 max size: 6 31 44\n",
      "file data/malign004.npy mask cover 1.00 area: 2079 regions: 1 max size: 5 32 35\n",
      "file data/malign005.npy mask cover 0.95 area: 4442 regions: 1 max size: 6 45 38\n",
      "file data/malign006.npy mask cover 1.00 area: 775 regions: 1 max size: 3 33 26\n",
      "file data/malign007.npy mask cover 1.00 area: 1199 regions: 1 max size: 4 24 28\n",
      "file data/malign008.npy mask cover 1.00 area: 2210 regions: 1 max size: 4 31 31\n",
      "file data/malign009.npy mask cover 1.00 area: 2889 regions: 1 max size: 3 38 48\n",
      "file data/malign010.npy mask cover 1.00 area: 1901 regions: 1 max size: 5 36 27\n",
      "file data/malign011.npy mask cover 1.00 area: 843 regions: 1 max size: 4 24 21\n",
      "file data/malign012.npy mask cover 1.00 area: 4267 regions: 1 max size: 7 48 51\n",
      "file data/malign013.npy mask cover 1.00 area: 2418 regions: 1 max size: 5 33 44\n",
      "file data/malign014.npy mask cover 1.00 area: 2064 regions: 1 max size: 5 35 30\n",
      "file data/malign015.npy mask cover 1.00 area: 6522 regions: 1 max size: 7 50 51\n",
      "file data/malign016.npy mask cover 1.00 area: 781 regions: 1 max size: 4 21 21\n",
      "file data/malign017.npy mask cover 1.00 area: 3286 regions: 1 max size: 5 35 35\n",
      "file data/malign018.npy mask cover 1.00 area: 2113 regions: 1 max size: 5 27 31\n",
      "file data/malign019.npy mask cover 1.00 area: 1956 regions: 1 max size: 6 28 35\n",
      "file data/malign020.npy mask cover 1.00 area: 1101 regions: 1 max size: 4 24 21\n",
      "file data/malign021.npy mask cover 1.00 area: 647 regions: 1 max size: 4 19 28\n",
      "file data/malign022.npy mask cover 1.00 area: 2379 regions: 1 max size: 6 41 44\n",
      "file data/malign023.npy mask cover 1.00 area: 608 regions: 1 max size: 4 19 21\n",
      "file data/malign024.npy mask cover 1.00 area: 4270 regions: 1 max size: 8 45 63\n",
      "file data/malign025.npy mask cover 1.00 area: 510 regions: 1 max size: 3 15 20\n",
      "file data/malign026.npy mask cover 1.00 area: 1721 regions: 1 max size: 5 26 25\n",
      "file data/malign027.npy mask cover 1.00 area: 3584 regions: 1 max size: 6 37 45\n",
      "file data/malign028.npy mask cover 1.00 area: 1845 regions: 1 max size: 5 31 35\n",
      "file data/malign029.npy mask cover 1.00 area: 2998 regions: 1 max size: 5 43 31\n",
      "file data/malign030.npy mask cover 1.00 area: 581 regions: 1 max size: 4 18 17\n",
      "file data/malign031.npy mask cover 1.00 area: 1211 regions: 1 max size: 5 23 24\n",
      "file data/malign032.npy mask cover 1.00 area: 759 regions: 1 max size: 3 22 24\n",
      "file data/malign033.npy mask cover 1.00 area: 689 regions: 1 max size: 3 24 21\n",
      "file data/malign034.npy mask cover 0.94 area: 5813 regions: 1 max size: 7 43 42\n",
      "file data/malign035.npy mask cover 0.99 area: 1510 regions: 1 max size: 3 30 27\n",
      "file data/malign036.npy mask cover 1.00 area: 415 regions: 1 max size: 3 19 18\n",
      "file data/malign037.npy mask cover 1.00 area: 1275 regions: 1 max size: 3 32 23\n",
      "file data/malign038.npy mask cover 0.99 area: 856 regions: 1 max size: 4 21 25\n",
      "file data/malign039.npy mask cover 0.96 area: 1630 regions: 1 max size: 5 25 29\n",
      "file data/malign040.npy mask cover 1.00 area: 808 regions: 1 max size: 3 29 21\n",
      "file data/malign041.npy mask cover 0.99 area: 924 regions: 1 max size: 4 22 25\n",
      "file data/malign042.npy mask cover 1.00 area: 919 regions: 1 max size: 4 24 22\n",
      "file data/malign043.npy mask cover 1.00 area: 3546 regions: 1 max size: 5 35 40\n",
      "file data/malign044.npy mask cover 1.00 area: 1005 regions: 1 max size: 4 21 27\n",
      "file data/malign045.npy mask cover 1.00 area: 4119 regions: 1 max size: 7 34 45\n",
      "file data/malign046.npy mask cover 1.00 area: 1314 regions: 1 max size: 5 23 24\n",
      "file data/malign047.npy mask cover 1.00 area: 5661 regions: 1 max size: 9 44 51\n",
      "file data/malign048.npy mask cover 1.00 area: 1331 regions: 1 max size: 4 23 35\n",
      "file data/malign049.npy mask cover 0.38 area: 594 regions: 1 max size: 3 20 15\n",
      "file data/malign050.npy mask cover 1.00 area: 1522 regions: 1 max size: 4 33 27\n",
      "file data/malign051.npy mask cover 0.97 area: 4556 regions: 1 max size: 6 55 41\n",
      "file data/malign052.npy mask cover 1.00 area: 810 regions: 1 max size: 3 23 26\n",
      "file data/malign053.npy mask cover 1.00 area: 2108 regions: 1 max size: 5 29 37\n",
      "file data/malign054.npy mask cover 1.00 area: 5197 regions: 1 max size: 8 48 57\n",
      "file data/malign055.npy mask cover 0.99 area: 2923 regions: 2 max size: 6 37 34\n",
      "file data/malign056.npy mask cover 1.00 area: 2236 regions: 1 max size: 5 34 35\n",
      "file data/malign057.npy mask cover 1.00 area: 2454 regions: 1 max size: 6 39 37\n",
      "file data/malign058.npy mask cover 0.94 area: 1288 regions: 1 max size: 5 24 25\n",
      "file data/malign059.npy mask cover 1.00 area: 5521 regions: 1 max size: 8 42 41\n",
      "file data/malign060.npy mask cover 1.00 area: 1324 regions: 1 max size: 3 32 35\n",
      "file data/malign061.npy mask cover 1.00 area: 4129 regions: 1 max size: 4 51 42\n",
      "file data/malign062.npy mask cover 1.00 area: 2690 regions: 2 max size: 5 35 37\n",
      "file data/malign063.npy mask cover 0.97 area: 1483 regions: 1 max size: 4 33 33\n",
      "file data/malign064.npy mask cover 1.00 area: 1419 regions: 1 max size: 5 22 36\n",
      "file data/malign065.npy mask cover 1.00 area: 439 regions: 1 max size: 4 17 15\n",
      "file data/malign066.npy mask cover 0.96 area: 5081 regions: 1 max size: 7 44 34\n",
      "file data/malign067.npy mask cover 1.00 area: 2733 regions: 2 max size: 5 32 54\n",
      "file data/malign068.npy mask cover 1.00 area: 461 regions: 1 max size: 3 15 20\n",
      "file data/malign069.npy mask cover 1.00 area: 1649 regions: 1 max size: 5 32 28\n",
      "file data/malign070.npy mask cover 1.00 area: 880 regions: 1 max size: 3 22 28\n",
      "file data/malign071.npy mask cover 1.00 area: 667 regions: 1 max size: 3 21 24\n",
      "file data/malign072.npy mask cover 1.00 area: 1700 regions: 1 max size: 5 28 35\n",
      "file data/malign073.npy mask cover 1.00 area: 640 regions: 1 max size: 3 27 23\n",
      "file data/malign074.npy mask cover 1.00 area: 2086 regions: 1 max size: 4 35 31\n",
      "file data/malign075.npy mask cover 1.00 area: 6702 regions: 2 max size: 7 41 56\n",
      "file data/malign076.npy mask cover 0.97 area: 493 regions: 1 max size: 3 16 23\n",
      "file data/malign077.npy mask cover 1.00 area: 419 regions: 1 max size: 3 17 16\n",
      "file data/malign078.npy mask cover 1.00 area: 782 regions: 1 max size: 4 20 22\n",
      "file data/malign079.npy mask cover 1.00 area: 3421 regions: 1 max size: 4 44 42\n",
      "file data/malign080.npy mask cover 0.96 area: 4669 regions: 1 max size: 8 41 41\n",
      "file data/malign081.npy mask cover 1.00 area: 494 regions: 1 max size: 3 22 15\n",
      "file data/malign082.npy mask cover 1.00 area: 1310 regions: 1 max size: 4 22 32\n",
      "file data/malign083.npy mask cover 1.00 area: 2328 regions: 1 max size: 6 26 37\n",
      "file data/malign084.npy mask cover 1.00 area: 3969 regions: 1 max size: 6 36 40\n",
      "file data/malign085.npy mask cover 1.00 area: 1009 regions: 1 max size: 6 20 20\n",
      "file data/malign086.npy mask cover 1.00 area: 7089 regions: 1 max size: 7 65 61\n",
      "file data/malign087.npy mask cover 1.00 area: 1935 regions: 1 max size: 4 36 32\n",
      "file data/malign088.npy mask cover 1.00 area: 1455 regions: 1 max size: 6 26 26\n",
      "file data/malign089.npy mask cover 1.00 area: 1481 regions: 1 max size: 4 19 35\n",
      "file data/malign090.npy mask cover 1.00 area: 2329 regions: 1 max size: 4 48 29\n",
      "file data/malign091.npy mask cover 1.00 area: 3902 regions: 1 max size: 6 50 34\n",
      "file data/malign092.npy mask cover 0.99 area: 2246 regions: 1 max size: 5 31 33\n",
      "file data/malign093.npy mask cover 1.00 area: 2446 regions: 1 max size: 6 36 33\n",
      "file data/malign094.npy mask cover 0.96 area: 1652 regions: 1 max size: 3 38 28\n",
      "file data/malign095.npy mask cover 0.98 area: 1229 regions: 1 max size: 5 21 30\n",
      "file data/malign096.npy mask cover 0.97 area: 6264 regions: 1 max size: 8 40 42\n",
      "file data/malign097.npy mask cover 1.00 area: 1181 regions: 1 max size: 4 24 30\n",
      "file data/malign098.npy mask cover 1.00 area: 838 regions: 1 max size: 3 29 25\n",
      "file data/malign099.npy mask cover 1.00 area: 3372 regions: 1 max size: 7 40 30\n",
      "file data/malign100.npy mask cover 1.00 area: 3311 regions: 1 max size: 6 42 35\n",
      "file data/malign101.npy mask cover 1.00 area: 1515 regions: 1 max size: 4 30 26\n",
      "file data/malign102.npy mask cover 0.94 area: 2119 regions: 1 max size: 5 26 40\n",
      "file data/malign103.npy mask cover 1.00 area: 7806 regions: 1 max size: 8 45 49\n",
      "file data/malign104.npy mask cover 1.00 area: 5651 regions: 1 max size: 4 51 43\n",
      "file data/malign105.npy mask cover 1.00 area: 9968 regions: 1 max size: 11 53 75\n",
      "file data/malign106.npy mask cover 1.00 area: 3245 regions: 1 max size: 5 46 45\n",
      "file data/malign107.npy mask cover 1.00 area: 879 regions: 1 max size: 4 20 27\n",
      "file data/malign108.npy mask cover 1.00 area: 805 regions: 1 max size: 4 35 20\n",
      "file data/malign109.npy mask cover 1.00 area: 3249 regions: 1 max size: 6 54 37\n",
      "file data/malign110.npy mask cover 1.00 area: 1996 regions: 1 max size: 5 42 33\n",
      "file data/malign111.npy mask cover 1.00 area: 3201 regions: 1 max size: 5 38 57\n",
      "file data/malign112.npy mask cover 1.00 area: 596 regions: 1 max size: 3 22 30\n",
      "file data/malign113.npy mask cover 1.00 area: 2391 regions: 1 max size: 4 31 46\n",
      "file data/malign114.npy mask cover 0.98 area: 3863 regions: 1 max size: 7 43 41\n",
      "file data/malign115.npy mask cover 0.98 area: 4474 regions: 1 max size: 8 37 45\n",
      "file data/malign116.npy mask cover 1.00 area: 1503 regions: 1 max size: 3 30 35\n",
      "file data/malign117.npy mask cover 1.00 area: 719 regions: 1 max size: 3 25 19\n",
      "file data/malign118.npy mask cover 1.00 area: 768 regions: 1 max size: 3 20 22\n",
      "file data/malign119.npy mask cover 1.00 area: 1715 regions: 1 max size: 4 31 27\n",
      "file data/malign120.npy mask cover 1.00 area: 3680 regions: 1 max size: 6 35 41\n",
      "file data/malign121.npy mask cover 1.00 area: 4147 regions: 1 max size: 6 37 40\n",
      "file data/malign122.npy mask cover 1.00 area: 2082 regions: 1 max size: 5 28 34\n",
      "file data/malign123.npy mask cover 0.99 area: 1415 regions: 1 max size: 5 27 26\n",
      "file data/malign124.npy mask cover 1.00 area: 733 regions: 1 max size: 5 19 20\n",
      "file data/malign125.npy mask cover 1.00 area: 1251 regions: 1 max size: 5 24 25\n",
      "file data/malign126.npy mask cover 1.00 area: 1534 regions: 1 max size: 5 31 28\n",
      "file data/malign127.npy mask cover 1.00 area: 971 regions: 1 max size: 4 22 26\n",
      "file data/malign128.npy mask cover 1.00 area: 1890 regions: 2 max size: 3 35 35\n",
      "file data/malign129.npy mask cover 1.00 area: 593 regions: 1 max size: 4 23 18\n",
      "file data/malign130.npy mask cover 1.00 area: 1975 regions: 1 max size: 5 34 37\n",
      "file data/malign131.npy mask cover 1.00 area: 1672 regions: 1 max size: 4 34 29\n",
      "file data/malign132.npy mask cover 1.00 area: 2064 regions: 1 max size: 5 31 41\n",
      "file data/malign133.npy mask cover 1.00 area: 1302 regions: 1 max size: 4 37 32\n",
      "file data/malign134.npy mask cover 1.00 area: 2382 regions: 1 max size: 6 35 31\n",
      "file data/malign135.npy mask cover 1.00 area: 4051 regions: 1 max size: 4 47 38\n",
      "file data/malign136.npy mask cover 1.00 area: 1847 regions: 1 max size: 5 27 28\n",
      "file data/malign137.npy mask cover 1.00 area: 1362 regions: 1 max size: 5 25 25\n",
      "file data/malign138.npy mask cover 1.00 area: 1371 regions: 1 max size: 4 29 42\n",
      "file data/malign139.npy mask cover 1.00 area: 709 regions: 1 max size: 3 20 29\n",
      "file data/malign140.npy mask cover 1.00 area: 1596 regions: 1 max size: 3 29 30\n",
      "file data/malign141.npy mask cover 1.00 area: 3333 regions: 1 max size: 5 36 46\n",
      "file data/malign142.npy mask cover 1.00 area: 2233 regions: 1 max size: 5 38 32\n",
      "file data/malign143.npy mask cover 0.95 area: 3789 regions: 1 max size: 5 46 41\n",
      "file data/malign144.npy mask cover 1.00 area: 619 regions: 1 max size: 3 18 18\n",
      "file data/malign145.npy mask cover 1.00 area: 3123 regions: 1 max size: 6 34 47\n",
      "file data/malign146.npy mask cover 1.00 area: 2379 regions: 1 max size: 4 33 41\n",
      "file data/malign147.npy mask cover 1.00 area: 1453 regions: 1 max size: 5 26 28\n",
      "file data/malign148.npy mask cover 1.00 area: 530 regions: 1 max size: 3 18 19\n",
      "file data/malign149.npy mask cover 1.00 area: 1603 regions: 1 max size: 5 27 30\n",
      "file data/malign150.npy mask cover 1.00 area: 3915 regions: 1 max size: 6 42 38\n",
      "file data/malign151.npy mask cover 1.00 area: 2813 regions: 1 max size: 6 30 44\n",
      "file data/malign152.npy mask cover 1.00 area: 3858 regions: 1 max size: 8 43 35\n",
      "file data/malign153.npy mask cover 0.98 area: 2377 regions: 1 max size: 5 32 37\n",
      "file data/malign154.npy mask cover 1.00 area: 2398 regions: 1 max size: 5 31 37\n",
      "file data/malign155.npy mask cover 1.00 area: 3634 regions: 1 max size: 7 32 38\n",
      "file data/malign156.npy mask cover 0.98 area: 3574 regions: 1 max size: 6 34 42\n",
      "file data/malign157.npy mask cover 1.00 area: 5050 regions: 1 max size: 7 42 48\n",
      "file data/malign158.npy mask cover 0.95 area: 1375 regions: 1 max size: 5 27 22\n",
      "file data/malign159.npy mask cover 1.00 area: 2112 regions: 1 max size: 5 38 31\n",
      "file data/malign160.npy mask cover 1.00 area: 4224 regions: 1 max size: 6 38 54\n",
      "file data/malign161.npy mask cover 1.00 area: 2064 regions: 1 max size: 8 23 28\n",
      "file data/malign162.npy mask cover 0.89 area: 3616 regions: 1 max size: 7 38 34\n",
      "file data/malign163.npy mask cover 1.00 area: 4595 regions: 1 max size: 7 40 55\n",
      "file data/malign164.npy mask cover 1.00 area: 822 regions: 1 max size: 5 24 27\n",
      "file data/malign165.npy mask cover 0.95 area: 4749 regions: 1 max size: 7 42 41\n",
      "file data/malign166.npy mask cover 0.97 area: 2093 regions: 1 max size: 6 36 30\n",
      "file data/malign167.npy mask cover 1.00 area: 727 regions: 1 max size: 5 19 27\n",
      "file data/malign168.npy mask cover 1.00 area: 657 regions: 1 max size: 4 20 22\n",
      "file data/malign169.npy mask cover 1.00 area: 789 regions: 1 max size: 4 21 18\n",
      "file data/malign170.npy mask cover 1.00 area: 2732 regions: 1 max size: 6 29 39\n",
      "file data/malign171.npy mask cover 1.00 area: 4577 regions: 1 max size: 10 36 42\n",
      "file data/malign172.npy mask cover 0.76 area: 929 regions: 1 max size: 5 19 21\n",
      "file data/malign173.npy mask cover 0.98 area: 993 regions: 1 max size: 5 21 26\n",
      "file data/malign174.npy mask cover 1.00 area: 2017 regions: 1 max size: 5 28 36\n",
      "file data/malign175.npy mask cover 1.00 area: 2174 regions: 1 max size: 6 31 33\n",
      "file data/malign176.npy mask cover 1.00 area: 910 regions: 1 max size: 4 22 23\n",
      "file data/malign177.npy mask cover 1.00 area: 1367 regions: 1 max size: 3 30 27\n",
      "file data/malign178.npy mask cover 1.00 area: 1907 regions: 1 max size: 6 29 26\n",
      "file data/malign179.npy mask cover 1.00 area: 7321 regions: 1 max size: 7 48 51\n",
      "file data/malign180.npy mask cover 1.00 area: 1643 regions: 1 max size: 6 27 29\n",
      "file data/malign181.npy mask cover 0.99 area: 2289 regions: 1 max size: 6 24 40\n",
      "file data/malign182.npy mask cover 1.00 area: 1901 regions: 1 max size: 5 31 34\n",
      "file data/malign183.npy mask cover 1.00 area: 5192 regions: 1 max size: 6 38 55\n",
      "file data/malign184.npy mask cover 1.00 area: 3145 regions: 1 max size: 5 29 44\n",
      "file data/malign185.npy mask cover 1.00 area: 996 regions: 1 max size: 5 25 21\n",
      "file data/malign186.npy mask cover 0.95 area: 2800 regions: 2 max size: 7 35 41\n",
      "file data/malign187.npy mask cover 0.81 area: 4050 regions: 1 max size: 7 41 35\n",
      "file data/malign188.npy mask cover 1.00 area: 2379 regions: 1 max size: 4 51 33\n",
      "file data/malign189.npy mask cover 1.00 area: 2900 regions: 1 max size: 6 33 30\n",
      "file data/malign190.npy mask cover 1.00 area: 435 regions: 1 max size: 3 16 18\n",
      "file data/malign191.npy mask cover 1.00 area: 1451 regions: 1 max size: 6 20 27\n",
      "file data/malign192.npy mask cover 1.00 area: 2741 regions: 1 max size: 5 32 34\n",
      "file data/malign193.npy mask cover 1.00 area: 1797 regions: 1 max size: 5 25 42\n",
      "file data/malign194.npy mask cover 1.00 area: 1321 regions: 1 max size: 4 22 33\n",
      "file data/malign195.npy mask cover 1.00 area: 5628 regions: 1 max size: 9 45 42\n",
      "file data/malign196.npy mask cover 0.94 area: 7480 regions: 1 max size: 12 40 58\n",
      "file data/malign197.npy mask cover 1.00 area: 1526 regions: 1 max size: 5 25 27\n",
      "file data/malign198.npy mask cover 1.00 area: 2739 regions: 1 max size: 5 36 34\n",
      "file data/malign199.npy mask cover 0.87 area: 468 regions: 1 max size: 4 10 21\n",
      "file data/malign200.npy mask cover 1.00 area: 746 regions: 1 max size: 4 21 21\n",
      "file data/malign201.npy mask cover 1.00 area: 1525 regions: 1 max size: 5 29 26\n",
      "file data/malign202.npy mask cover 1.00 area: 1119 regions: 1 max size: 5 20 34\n",
      "file data/malign203.npy mask cover 1.00 area: 4039 regions: 1 max size: 7 30 50\n",
      "file data/malign204.npy mask cover 1.00 area: 3995 regions: 1 max size: 7 44 39\n",
      "file data/malign205.npy mask cover 1.00 area: 1290 regions: 1 max size: 5 29 18\n",
      "file data/malign206.npy mask cover 1.00 area: 1560 regions: 1 max size: 5 26 30\n",
      "file data/malign207.npy mask cover 1.00 area: 2822 regions: 1 max size: 5 42 39\n",
      "file data/malign208.npy mask cover 1.00 area: 3234 regions: 1 max size: 6 41 40\n",
      "file data/malign209.npy mask cover 1.00 area: 3468 regions: 1 max size: 6 41 35\n",
      "file data/malign210.npy mask cover 1.00 area: 556 regions: 1 max size: 4 15 20\n",
      "file data/malign211.npy mask cover 1.00 area: 4690 regions: 1 max size: 8 37 36\n",
      "file data/malign212.npy mask cover 1.00 area: 2733 regions: 1 max size: 6 35 36\n",
      "file data/malign213.npy mask cover 1.00 area: 3823 regions: 1 max size: 7 35 42\n",
      "file data/malign214.npy mask cover 1.00 area: 1438 regions: 1 max size: 5 27 35\n",
      "file data/malign215.npy mask cover 1.00 area: 3187 regions: 1 max size: 6 48 28\n",
      "file data/malign216.npy mask cover 0.97 area: 506 regions: 1 max size: 4 17 19\n",
      "file data/malign217.npy mask cover 1.00 area: 2325 regions: 1 max size: 5 29 32\n",
      "file data/malign218.npy mask cover 1.00 area: 3111 regions: 1 max size: 6 31 42\n",
      "file data/malign219.npy mask cover 1.00 area: 1118 regions: 1 max size: 4 19 33\n",
      "file data/malign220.npy mask cover 1.00 area: 1608 regions: 1 max size: 5 26 24\n",
      "file data/malign221.npy mask cover 1.00 area: 917 regions: 1 max size: 4 21 19\n",
      "file data/malign222.npy mask cover 1.00 area: 3750 regions: 1 max size: 5 43 40\n",
      "file data/malign223.npy mask cover 1.00 area: 5388 regions: 1 max size: 6 45 45\n",
      "file data/malign224.npy mask cover 1.00 area: 1025 regions: 1 max size: 4 26 23\n",
      "file data/malign225.npy mask cover 0.90 area: 2793 regions: 1 max size: 5 56 29\n",
      "file data/malign226.npy mask cover 0.97 area: 2830 regions: 1 max size: 6 36 34\n",
      "file data/malign227.npy mask cover 1.00 area: 3069 regions: 1 max size: 6 32 40\n",
      "file data/malign228.npy mask cover 1.00 area: 3772 regions: 1 max size: 6 38 42\n",
      "file data/malign229.npy mask cover 1.00 area: 2790 regions: 1 max size: 5 39 39\n",
      "file data/malign230.npy mask cover 1.00 area: 1829 regions: 1 max size: 5 34 28\n",
      "file data/malign231.npy mask cover 1.00 area: 2170 regions: 1 max size: 6 29 24\n",
      "file data/malign232.npy mask cover 1.00 area: 1643 regions: 1 max size: 5 32 31\n",
      "file data/malign233.npy mask cover 1.00 area: 1243 regions: 1 max size: 4 26 27\n",
      "file data/malign234.npy mask cover 0.97 area: 4022 regions: 1 max size: 6 41 45\n",
      "file data/malign235.npy mask cover 1.00 area: 626 regions: 1 max size: 4 23 20\n",
      "file data/malign236.npy mask cover 1.00 area: 6163 regions: 1 max size: 7 46 43\n",
      "file data/malign237.npy mask cover 1.00 area: 496 regions: 1 max size: 3 18 18\n",
      "file data/malign238.npy mask cover 1.00 area: 955 regions: 1 max size: 5 31 19\n",
      "file data/malign239.npy mask cover 1.00 area: 1196 regions: 1 max size: 5 27 22\n",
      "file data/malign240.npy mask cover 1.00 area: 1699 regions: 1 max size: 5 43 22\n",
      "file data/malign241.npy mask cover 1.00 area: 1124 regions: 1 max size: 4 21 28\n",
      "file data/malign242.npy mask cover 1.00 area: 2952 regions: 1 max size: 5 32 44\n",
      "file data/malign243.npy mask cover 1.00 area: 595 regions: 1 max size: 3 23 19\n",
      "file data/malign244.npy mask cover 1.00 area: 870 regions: 1 max size: 4 22 21\n",
      "file data/malign245.npy mask cover 1.00 area: 2031 regions: 1 max size: 6 27 32\n",
      "file data/malign246.npy mask cover 0.99 area: 2390 regions: 1 max size: 6 34 35\n",
      "file data/malign247.npy mask cover 1.00 area: 1144 regions: 1 max size: 4 25 29\n",
      "file data/malign248.npy mask cover 1.00 area: 1448 regions: 1 max size: 4 27 26\n",
      "file data/malign249.npy mask cover 1.00 area: 2085 regions: 1 max size: 5 26 39\n",
      "file data/malign250.npy mask cover 1.00 area: 4518 regions: 1 max size: 6 46 40\n",
      "file data/malign251.npy mask cover 1.00 area: 1622 regions: 1 max size: 4 30 31\n",
      "file data/malign252.npy mask cover 1.00 area: 2316 regions: 1 max size: 6 32 29\n",
      "file data/malign253.npy mask cover 1.00 area: 6895 regions: 1 max size: 6 42 71\n",
      "file data/malign254.npy mask cover 1.00 area: 1825 regions: 1 max size: 6 26 25\n",
      "file data/malign255.npy mask cover 1.00 area: 910 regions: 1 max size: 4 21 20\n",
      "file data/malign256.npy mask cover 0.95 area: 3453 regions: 1 max size: 7 46 27\n",
      "file data/malign257.npy mask cover 1.00 area: 4723 regions: 1 max size: 6 42 48\n",
      "file data/malign258.npy mask cover 1.00 area: 835 regions: 1 max size: 5 20 19\n",
      "file data/malign259.npy mask cover 1.00 area: 11220 regions: 1 max size: 6 98 64\n",
      "file data/malign260.npy mask cover 1.00 area: 5311 regions: 1 max size: 7 49 42\n",
      "file data/malign261.npy mask cover 1.00 area: 1907 regions: 1 max size: 5 30 35\n",
      "file data/malign262.npy mask cover 0.89 area: 1720 regions: 1 max size: 5 27 33\n",
      "file data/malign263.npy mask cover 0.98 area: 5344 regions: 1 max size: 7 40 62\n",
      "file data/malign264.npy mask cover 0.80 area: 6948 regions: 1 max size: 9 40 40\n",
      "file data/malign265.npy mask cover 1.00 area: 1235 regions: 1 max size: 4 28 28\n",
      "file data/malign266.npy mask cover 1.00 area: 1487 regions: 1 max size: 6 28 22\n",
      "file data/malign267.npy mask cover 1.00 area: 2967 regions: 1 max size: 7 35 33\n",
      "file data/malign268.npy mask cover 1.00 area: 2409 regions: 1 max size: 6 31 43\n",
      "file data/malign269.npy mask cover 1.00 area: 862 regions: 1 max size: 3 28 19\n",
      "file data/malign270.npy mask cover 1.00 area: 1607 regions: 1 max size: 4 26 37\n",
      "file data/malign271.npy mask cover 1.00 area: 1259 regions: 1 max size: 4 25 31\n",
      "file data/malign272.npy mask cover 1.00 area: 5952 regions: 1 max size: 6 40 56\n",
      "file data/malign273.npy mask cover 1.00 area: 2509 regions: 1 max size: 6 32 34\n",
      "file data/malign274.npy mask cover 1.00 area: 6206 regions: 1 max size: 8 54 48\n",
      "file data/malign275.npy mask cover 1.00 area: 6927 regions: 1 max size: 6 56 67\n",
      "file data/malign276.npy mask cover 0.96 area: 2558 regions: 1 max size: 5 28 40\n",
      "file data/malign277.npy mask cover 1.00 area: 3115 regions: 1 max size: 7 33 40\n",
      "file data/malign278.npy mask cover 1.00 area: 3325 regions: 1 max size: 5 48 39\n",
      "file data/malign279.npy mask cover 1.00 area: 1909 regions: 1 max size: 5 26 34\n",
      "file data/malign280.npy mask cover 1.00 area: 4876 regions: 1 max size: 8 36 42\n",
      "file data/malign281.npy mask cover 0.99 area: 2986 regions: 1 max size: 7 37 39\n",
      "file data/malign282.npy mask cover 1.00 area: 3644 regions: 1 max size: 6 35 41\n",
      "file data/malign283.npy mask cover 0.98 area: 2302 regions: 1 max size: 5 42 30\n",
      "file data/malign284.npy mask cover 1.00 area: 4454 regions: 1 max size: 7 54 40\n",
      "file data/malign285.npy mask cover 0.98 area: 5794 regions: 1 max size: 8 56 42\n",
      "file data/malign286.npy mask cover 1.00 area: 2283 regions: 1 max size: 6 33 38\n",
      "file data/malign287.npy mask cover 1.00 area: 2191 regions: 1 max size: 4 31 41\n",
      "file data/malign288.npy mask cover 1.00 area: 2679 regions: 1 max size: 6 30 34\n",
      "file data/malign289.npy mask cover 1.00 area: 1526 regions: 1 max size: 5 24 28\n",
      "file data/malign290.npy mask cover 1.00 area: 2363 regions: 1 max size: 6 35 31\n",
      "file data/malign291.npy mask cover 0.88 area: 6668 regions: 1 max size: 7 43 49\n",
      "file data/malign292.npy mask cover 1.00 area: 3701 regions: 1 max size: 7 49 31\n",
      "file data/malign293.npy mask cover 0.95 area: 10710 regions: 1 max size: 12 56 63\n",
      "file data/malign294.npy mask cover 1.00 area: 4557 regions: 1 max size: 6 43 43\n",
      "file data/malign295.npy mask cover 0.96 area: 2492 regions: 1 max size: 6 28 39\n",
      "file data/malign296.npy mask cover 1.00 area: 2265 regions: 1 max size: 5 30 34\n",
      "file data/malign297.npy mask cover 1.00 area: 1015 regions: 1 max size: 4 19 27\n",
      "file data/malign298.npy mask cover 1.00 area: 4637 regions: 1 max size: 9 47 32\n",
      "file data/malign299.npy mask cover 1.00 area: 2795 regions: 1 max size: 6 35 40\n",
      "file data/malign300.npy mask cover 1.00 area: 4379 regions: 1 max size: 6 43 39\n",
      "file data/malign301.npy mask cover 0.93 area: 853 regions: 1 max size: 4 22 21\n",
      "file data/malign302.npy mask cover 1.00 area: 3807 regions: 1 max size: 8 38 34\n",
      "file data/malign303.npy mask cover 1.00 area: 1230 regions: 1 max size: 4 27 25\n",
      "file data/malign304.npy mask cover 1.00 area: 3756 regions: 1 max size: 7 37 39\n",
      "file data/malign305.npy mask cover 1.00 area: 1976 regions: 1 max size: 3 34 40\n",
      "file data/malign306.npy mask cover 1.00 area: 1995 regions: 1 max size: 4 35 29\n",
      "file data/malign307.npy mask cover 1.00 area: 1933 regions: 1 max size: 4 36 33\n",
      "file data/malign308.npy mask cover 0.99 area: 2498 regions: 1 max size: 6 28 31\n",
      "file data/malign309.npy mask cover 1.00 area: 4667 regions: 1 max size: 7 46 43\n",
      "file data/malign310.npy mask cover 1.00 area: 5290 regions: 1 max size: 7 48 55\n",
      "file data/malign311.npy mask cover 0.94 area: 2394 regions: 1 max size: 5 38 33\n",
      "file data/malign312.npy mask cover 1.00 area: 2169 regions: 1 max size: 5 36 39\n",
      "file data/malign313.npy mask cover 1.00 area: 1233 regions: 1 max size: 4 23 27\n",
      "file data/malign314.npy mask cover 1.00 area: 3949 regions: 1 max size: 6 52 45\n",
      "file data/malign315.npy mask cover 0.98 area: 1316 regions: 1 max size: 5 33 23\n",
      "file data/malign316.npy mask cover 1.00 area: 4361 regions: 1 max size: 6 41 48\n",
      "file data/malign317.npy mask cover 1.00 area: 833 regions: 1 max size: 5 20 19\n",
      "file data/malign318.npy mask cover 1.00 area: 3645 regions: 1 max size: 6 48 49\n",
      "file data/malign319.npy mask cover 0.99 area: 1213 regions: 1 max size: 6 22 24\n",
      "file data/malign320.npy mask cover 1.00 area: 4508 regions: 1 max size: 6 39 51\n",
      "file data/malign321.npy mask cover 1.00 area: 1649 regions: 1 max size: 4 30 29\n",
      "file data/malign322.npy mask cover 1.00 area: 596 regions: 1 max size: 3 19 18\n",
      "file data/malign323.npy mask cover 0.93 area: 1917 regions: 1 max size: 4 28 42\n",
      "file data/malign324.npy mask cover 1.00 area: 1015 regions: 1 max size: 3 23 28\n",
      "file data/malign325.npy mask cover 1.00 area: 2247 regions: 1 max size: 5 37 31\n",
      "file data/malign326.npy mask cover 1.00 area: 2028 regions: 1 max size: 5 30 33\n",
      "file data/malign327.npy mask cover 1.00 area: 1689 regions: 1 max size: 5 21 33\n",
      "file data/malign328.npy mask cover 1.00 area: 1095 regions: 1 max size: 5 26 23\n",
      "file data/malign329.npy mask cover 1.00 area: 792 regions: 1 max size: 4 21 18\n",
      "file data/malign330.npy mask cover 1.00 area: 5374 regions: 1 max size: 6 53 39\n",
      "file data/malign331.npy mask cover 1.00 area: 2238 regions: 1 max size: 6 31 29\n",
      "file data/malign332.npy mask cover 1.00 area: 682 regions: 1 max size: 4 18 20\n",
      "file data/malign333.npy mask cover 1.00 area: 2932 regions: 1 max size: 5 34 40\n",
      "file data/malign334.npy mask cover 1.00 area: 4311 regions: 1 max size: 7 35 39\n",
      "file data/malign335.npy mask cover 1.00 area: 2060 regions: 1 max size: 5 43 31\n",
      "file data/malign336.npy mask cover 1.00 area: 615 regions: 1 max size: 3 21 19\n",
      "file data/malign337.npy mask cover 0.99 area: 6682 regions: 1 max size: 8 52 60\n",
      "file data/malign338.npy mask cover 1.00 area: 1054 regions: 1 max size: 4 29 25\n",
      "file data/malign339.npy mask cover 1.00 area: 2479 regions: 1 max size: 5 31 39\n",
      "file data/malign340.npy mask cover 1.00 area: 2227 regions: 1 max size: 4 38 33\n",
      "file data/malign341.npy mask cover 1.00 area: 4043 regions: 2 max size: 4 42 73\n",
      "file data/malign342.npy mask cover 1.00 area: 2788 regions: 1 max size: 6 45 32\n",
      "file data/malign343.npy mask cover 1.00 area: 3320 regions: 1 max size: 6 36 44\n",
      "file data/malign344.npy mask cover 1.00 area: 1059 regions: 1 max size: 4 29 20\n",
      "file data/malign345.npy mask cover 1.00 area: 2279 regions: 1 max size: 5 43 33\n",
      "file data/malign346.npy mask cover 1.00 area: 2881 regions: 1 max size: 5 37 37\n",
      "file data/malign347.npy mask cover 0.96 area: 3206 regions: 1 max size: 6 37 32\n"
     ]
    }
   ],
   "source": [
    "for s in sss:\n",
    "    print(s)"
   ]
  },
  {
   "cell_type": "code",
   "execution_count": 128,
   "metadata": {
    "collapsed": true,
    "deletable": true,
    "editable": true
   },
   "outputs": [],
   "source": [
    "fcontent = np.load(testdata[0])\n",
    "mask_3d= fcontent.all()['mask']\n",
    "dilated = ndimage.binary_dilation(mask_3d, iterations=2)\n",
    "label = measure.label(dilated)\n",
    "region = measure.regionprops(label)\n",
    "region.sort(key = lambda r : -r.area)"
   ]
  },
  {
   "cell_type": "code",
   "execution_count": 134,
   "metadata": {
    "collapsed": false,
    "deletable": true,
    "editable": true
   },
   "outputs": [],
   "source": [
    "big = region[0]"
   ]
  },
  {
   "cell_type": "code",
   "execution_count": 147,
   "metadata": {
    "collapsed": false,
    "deletable": true,
    "editable": true
   },
   "outputs": [
    {
     "data": {
      "text/plain": [
       "(9, 236, 202, 16, 266, 231)"
      ]
     },
     "execution_count": 147,
     "metadata": {},
     "output_type": "execute_result"
    }
   ],
   "source": [
    "big.bbox"
   ]
  },
  {
   "cell_type": "code",
   "execution_count": 148,
   "metadata": {
    "collapsed": false,
    "deletable": true,
    "editable": true
   },
   "outputs": [
    {
     "data": {
      "text/plain": [
       "1"
      ]
     },
     "execution_count": 148,
     "metadata": {},
     "output_type": "execute_result"
    }
   ],
   "source": [
    "len(region)"
   ]
  },
  {
   "cell_type": "code",
   "execution_count": 156,
   "metadata": {
    "collapsed": false,
    "deletable": true,
    "editable": true
   },
   "outputs": [
    {
     "data": {
      "image/png": "[encoded data removed]",
      "text/plain": [
       "<matplotlib.figure.Figure at 0x7ff4f65d4e80>"
      ]
     },
     "metadata": {},
     "output_type": "display_data"
    }
   ],
   "source": [
    "p = np.load('testdata/test012.npy').all()\n",
    "mask = p['mask']\n",
    "roi = p['tag'][:,:,:,ROI]\n",
    "num_slices = mask.shape[0]\n",
    "plt.figure(figsize=(16, 12*((num_slices-1) / 6) + 12))\n",
    "for i in range(mask.shape[0]):\n",
    "    image = ((mask[i] > 0) * 1) + ((mask[i] > 0) & roi[i])\n",
    "    plt.subplot((num_slices-1 / 6) +1, 6, i+1)\n",
    "    plt.imshow(image)\n",
    "plt.show()"
   ]
  },
  {
   "cell_type": "code",
   "execution_count": null,
   "metadata": {
    "collapsed": true,
    "deletable": true,
    "editable": true
   },
   "outputs": [],
   "source": []
  }
 ],
 "metadata": {
  "kernelspec": {
   "display_name": "Python 3",
   "language": "python",
   "name": "python3"
  },
  "language_info": {
   "codemirror_mode": {
    "name": "ipython",
    "version": 3
   },
   "file_extension": ".py",
   "mimetype": "text/x-python",
   "name": "python",
   "nbconvert_exporter": "python",
   "pygments_lexer": "ipython3",
   "version": "3.5.2"
  }
 },
 "nbformat": 4,
 "nbformat_minor": 2
}
