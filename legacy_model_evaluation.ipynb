{
 "cells": [
  {
   "cell_type": "code",
   "execution_count": 12,
   "metadata": {
    "collapsed": false,
    "deletable": true,
    "editable": true
   },
   "outputs": [],
   "source": [
    "import numpy as np\n",
    "\n",
    "from skimage import measure\n",
    "\n",
    "from glob import glob\n",
    "\n",
    "from keras.models import *\n",
    "from keras.layers import *\n",
    "from keras.optimizers import *\n",
    "from keras.utils.np_utils import to_categorical\n",
    "from keras.preprocessing.image import ImageDataGenerator\n",
    "\n",
    "from utils.data_manager import *\n",
    "from utils.ml_utils import *\n",
    "from utils.preprocess import *\n",
    "\n",
    "import matplotlib.pyplot as plt"
   ]
  },
  {
   "cell_type": "code",
   "execution_count": 2,
   "metadata": {
    "collapsed": true,
    "deletable": true,
    "editable": true
   },
   "outputs": [],
   "source": [
    "model = load_model('saved_models/model-babystep3-control-triple-binary-classification.h5')\n",
    "\n",
    "model2 = load_model('model-babystep3-fcn-rmoved-tertiary-classification-improved2.h5')\n",
    "\n",
    "model3 = load_model('saved_models/model-babystep3-composite-tertiary-classification.h5')"
   ]
  },
  {
   "cell_type": "code",
   "execution_count": 3,
   "metadata": {
    "collapsed": false
   },
   "outputs": [
    {
     "name": "stderr",
     "output_type": "stream",
     "text": [
      "/home/haedaal/workspace/utils/data_manager.py:62: FutureWarning: comparison to `None` will result in an elementwise object comparison in the future.\n",
      "  if _m == None:\n"
     ]
    }
   ],
   "source": [
    "p1_h = load_patient('project1/CCM_Data/Benign/001', hu=True)\n",
    "p1 = load_patient('project1/CCM_Data/Benign/001', hu=False)"
   ]
  },
  {
   "cell_type": "code",
   "execution_count": 10,
   "metadata": {
    "collapsed": false
   },
   "outputs": [
    {
     "data": {
      "image/png": "[encoded data removed]",
      "text/plain": [
       "<matplotlib.figure.Figure at 0x7fde64a3d358>"
      ]
     },
     "metadata": {},
     "output_type": "display_data"
    },
    {
     "name": "stdout",
     "output_type": "stream",
     "text": [
      "1/1 [==============================] - 0s\n",
      "1415/1415 [==============================] - 21s     \b\b\b\b\b\b\b\b\b\b\b\b\b\b\b\b\b\b\b\b\b\b\b\b\b\b\b\b\b\b\b\b\b\b\b\b\b\b\b\b\b\b\b\b\b\b\b\b\b\b\b\b\b\b\b\b\b\b\b\b\b\b\b\b\b\b\b\b\b\b\b\b\b\b\b\b\b\b\b\b\b\b\b\b\b\b\b\b\b\b\b\b\b\b\b\b\b\b\b\b\b\b\b\b\b\b\b\b\b\b\b\b\b\b\b\b\b\b\b\b\b\b\b\b\b\b\b\b\b\b\b\b\b\b\b\b\b\b\b\b\b\b\b\b\b\b\b\b\b\b\b\b\b\b\b\b\b\b\b\b\b\b\b\b\b\b\b\b\b\b\b\b\b\b\b\b\b\b\b\b\b\b\b\b\b\b\b\b\b\b\b\b\b\b\b\b\b\b\b\b\b\b\b\b\b\b\b\b\b\b\b\b\b\b\b\b\b\b\b\b\b\b\b\b\b\b\b\b\b\b\b\b\b\b\b\b\b\b\b\b\b\b\b\b\b\b\b\b\b\b\b\b\b\b\b\b\b\b\b\b\b\b\b\b\b\b\b\b\b\b\b\b\b\b\b\b\b\b\b\b\b\b\b\b\b\b\b\b\b\b\b\b\b\b\b\b\b\b\b\b\b\b\b\b\b\b\b\b\b\b\b\b\b\b\b\b\b\b\b\b\b\b\b\b\b\b\b\b\b\b\b\b\b\b\b\b\b\b\b\b\b\b\b\b\b\b\b\b\b\b\b\b\b\b\b\b\b\b\b\b\b\b\b\b\b\b\b\b\b\b\b\b\b\b\b\b\b\b\b\b\b\b\b\b\b\b\b\b\b\b\b\b\b\b\b\b\b\b\b\b\b\b\b\b\b\b\b\b\b\b\b\b\b\b\b\b\b\b\b\b\b\b\b\b\b\b\b\b\b\b\b\b\b\b\b\b\b\b\b\b\b\b\b\b\b\b\b\b\b\b\b\b\b\b\b\b\b\b\b\b\b\b\b\b\b\b\b\b\b\b\b\b\b\b\b\b\b\b\b\b\b\b\b\b\b\b\b\b\b\b\b\b\b\b\b\b\b\b\b\b\b\b\b\b\b\b\b\b\b\b\b\b\b\b\b\b\b\b\b\b\b\b\b\b\b\b\b\b\b\b\b\b\b\b\b\b\b\b\b\b\b\b\b\b\b\b\b\b\b\b\b\b\b\b\b\b\b\b\b\b\b\b\b\b\b\b\b\b\b\b\b\b\b\b\b\b\b\b\b\b\b\b\b\b\b\b\b\b\b\b\b\b\b\b\b\b\b\b\b\b\b\b\b\b\b\b\b\b\b\b\b\b\b\b\b\b\b\b\b\b\b\b\b\b\b\b\b\b\b\b\b\b\b\b\b\b\b\b\b\b\b\b\b\b\b\b\b\b\b\b\b\b\b\b\b\b\b\b\b\b\b\b\b\b\b\b\b\b\b\b\b\b\b\b\b\b\b\b\b\b\b\b\b\b\b\b\b\b\b\b\b\b\b\b\b\b\b\b\b\b\b\b\b\b\b\b\b\b\b\b\b\b\b\b\b\b\b\b\b\b\b\b\b\b\b\b\b\b\b\b\b\b\b\b\b\b\b\b\b\b\b\b\b\b\b\b\b\b\b\b\b\b\b\b\b\b\b\b\b\b\b\b\b\b\b\b\b\b\b\b\b\b\b\b\b\b\b\b\b\b\b\b\b\b\b\b\b\b\b\b\b\b\b\b\b\b\b\b\b\b\b\b\b\b\b\b\b\b\b\b\b\b\b\b\b\b\b\b\b\b\b\b\b\b\b\b\b\b\b\b\b\b\b\b\b\b\b\b\b\b\b\b\b\b\b\b\b\b\b\b\b\b\b\b\b\b\b\b\b\b\b\b\b\b\b\b\b\b\b\b\b\b\b\b\b\b\b\b\b\b\b\b\b\b\b\b\b\b\b\b\b\b\b\b\b\b\b\b\b\b\b\b\b\b\b\b\b\b\b\b\b\b\b\b\b\b\b\b\b\b\b\b\b\b\b\b\b\b\b\b\b\b\b\b\b\b\b\b\b\b\b\b\b\b\b\b\b\b\b\b\b\b\b\b\b\b\b\b\b\b\b\b\b\b\b\b\b\b\b\b\b\b\b\b\b\b\b\b\b\b\b\b\b\b\b\b\b\b\b\b\b\b\b\b\b\b\b\b\b\b\b\b\b\b\b\b\b\b\b\b\b\b\b\b\b\b\b\b\b\b\b\b\b\b\b\b\b\b\b\b\b\b\b\b\b\b\b\b\b\b\b\b\b\b\b\b\b\b\b\b\b\b\b\b\b\b\b\b\b\b\b\b\b\b\b\b\b\b\b\b\b\b\b\b\b\b\b\b\b\b\b\b\b\b\b\b\b\b\b\b\b\b\b\b\b\b\b\b\b\b\b\b\b\b\b\b\b\b\b\b\b\b\b\b\b\b\b\b\b\b\b\b\b\b\b\b\b\b\b\b\b\b\b\b\b\b\b\b\b\b\b\b\b\b\b\b\b\b\b\b\b\b\b\b\b\b\b\b\b\b\b\b\b\b\b\b\b\b\b\b\b\b\b\b\b\b\b\b\b\b\b\b\b\b\b\b\b\b\b\b\b\b\b\b\b\b\b\b\b\b\b\b\b\b\b\b\b\b\b\b\b\b\b\b\b\b\b\b\b\b\b\b\b\b\b\b\b\b\b\b\b\b\b\b\b\b\b\b\b\b\b\b\b\b\b\b\b\b\b\b\b\b\b\b\b\b\b\b\b\b\b\b\b\b\b\b\b\b\b\b\b\b\b\b\b\b\b\b\b\b\b\b\b\b\b\b\b\b\b\b\b\b\b\b\b\b\b\b\b\b\b\b\b\b\b\b\b\b\b\b\b\b\b\b\b\b\b\b\b\b\b\b\b\b\b\b\b\b\b\b\b\b\b\b\b\b\b\b\b\b\b\b\b\b\b\b\b\b\b\b\b\b\b\b\b\b\b\b\b\b\b\b\b\b\b\b\b\b\b\b\b\b\b\b\b\b\b\b\b\b\b\b\b\b\b\b\b\b\b\b\b\b\b\b\b\b\b\b\b\b\b\b\b\b\b\b\b\b\b\b\b\b\b\b\b\b\b\b\b\b\b\b\b\b\b\b\b\b\b\b\b\b\b\b\b\b\b\b\b\b\b\b\b\b\b\b\b\b\b\b\b\b\b\b\b\b\b\b\b\b\b\b\b\b\b\b\b\b\b\b\b\b\b\b\b\b\b\b\b\b\b\b\b\b\b\b\b\b\b\b\b\b\b\b\b\b\b\b\b\b\b\b\b\b\b\b\b\b\b\b\b\b\b\b\b\b\b\b\b\b\b\b\b\b\b\b\b\b\b\b\b\b\b\b\b\b\b\b\b\b\b\b\b\b\b\b\b\b\b\b\b\b\b\b\b\b\b\b\b\b\b\b\b\b\b\b\b\b\b\b\b\b\b\b\b\b\b\b\b\b\b\b\b\b\b\b\b\b\b\b\b\b\b\b\b\b\b\b\b\b\b\b\b\b\b\b\b\b\b\b\b\b\b\b\b\b\b\b\b\b\b\b\b\b\b\b\b\b\b\b\b\b\b\b\b\b\b\b\b\b\b\b\b\b\b\b\b\b\b\b\b\b\b\b\b\b\b\b\b\b\b\b\b\b\b\b\b\b\b\b\b\b\b\b\b\b\b\b\b\b\b\b\b\b\b\b\b\b\b\b\b\b\b\b\b\b\b\b\b\b\b\b\b\b\b\b\b\b\b\b\b\b\b\b\b\b\b\b\b\b\b\b\b\b\b\b\b\b\b\b\b\b\b\b\b\b\b\b\b\b\b\b\b\b\b\b\b\b\b\b\b\b\b\b\b\b\b\b\b\b\b\b\b\b\b\b\b\b\b\b\b\b\b\b\b\b\b\b\b\b\b\b\b\b\b\b\b\b\b\b\b\b\b\b\b\b\b\b\b\b\b\b\b\b\b\b\b\b\b\b\b\b\b\b\b\b\b\b\b\b\b\b\b\b\b\b\b\b\b\b\b\b\b\b\b\b\b\b\b\b\b\b\b\b\b\b\b\b\b\b\b\b\b\b\b\b\b\b\b\b\b\b\b\b\b\b\b\b\b\b\b\b\b\b\b\b\b\b\b\b\b\b\b\b\b\b\b\b\b\b\b\b\b\b\b\b\b\b\b\b\b\b\b\b\b\b\b\b\b\b\b\b\b\b\b\b\b\b\b\b\b\b\b\b\b\b\b\b\b\b\b\b\b\b\b\b\b\b\b\b\b\b\b\b\b\b\b\b\b\b\b\b\b\b\b\b\b\b\b\b\b\b\b\b\b\b\b\b\b\b\b\b\b\b\b\b\b\b\b\b\b\b\b\b\b\b\b\b\b\b\b\b\b\b\b\b\b\b\b\b\b\b\b\b\b\b\b\b\b\b\b\b\b\b\b\b\b\b\b\b\b\b\b\b\b\b\b\b\b\b\b\b\b\b\b\b\b\b\b\b\b\b\b\b\b\b\b\b\b\b\b\b\b\b\b\b\b\b\b\b\b\b\b\b\b\b\b\b\b\b\b\b\b\b\b\b\b\b\b\b\b\b\b\b\b\b\b\b\b\b\b\b\b\b\b\b\b\b\b\b\b\b\b\b\b\b\b\b\b\b\b\b\b\b\b\b\b\b\b\b\b\b\b\b\b\b\b\b\b\b\b\b\b\b\b\b\b\b\b\b\b\b\b\b\b\b\b\b\b\b\b\b\b\b\b\b\b\b\b\b\b\b\b\b\b\b\b\b\b\b\b\b\b\b\b\b\b\b\b\b\b\b\b\b\b\b\b\b\b\b\b\b\b\b\b\b\b\b\b\b\b\b\b\b\b\b\b\b\b\b\b\b\b\b\b\b\b\b\b\b\b\b\b\b\b\b\b\b\b\b\b\b\b\b\b\b\b\b\b\b\b\b\b\b\b\b\b\b\b\b\b\b\b\b\b\b\b\b\b\b\b\b\b\b\b\b\b\b\b\b\b\b\b\b\b\b\b\b\b\b\b\b\b\b\b\b\b\b\b\b\b\b\b\b\b\b\b\b\b\b\b\b\b\b\b\b\b\b\b\b\b\b\n"
     ]
    }
   ],
   "source": [
    "image = p1['image']\n",
    "hued = p1_h['image']\n",
    "\n",
    "mask = p1['mask']\n",
    "roi = segmentation_3D(p1_h, True)[:,:,:,1]\n",
    "\n",
    "shape = image.shape\n",
    "\n",
    "lesions = []\n",
    "\n",
    "for idx, mslice in enumerate(mask):\n",
    "    regions = measure.regionprops(measure.label(mslice))\n",
    "    for region in regions:\n",
    "        centroid = region.centroid\n",
    "        x, y = int(centroid[0]), int(centroid[1])\n",
    "        cropped = image[idx][x-40:x+40, y-40: y+40]\n",
    "        plt.imshow(cropped, plt.cm.bone)\n",
    "        plt.show()\n",
    "        pred = model.predict_classes(preprocess(cropped.reshape((1,80,80,1))))\n",
    "        lesions.append({'pred': pred, 'coord':(idx, x, y)})\n",
    "        \n",
    "coords = []\n",
    "        \n",
    "for idx in range(shape[0]):\n",
    "    for xi in range(20):\n",
    "        for yi in range(20):\n",
    "            if roi[idx][66 + xi * 20][66 + yi * 20] == 0:\n",
    "                pass\n",
    "            else:\n",
    "                x = 26 + xi * 20\n",
    "                y = 26 + yi * 20\n",
    "                coords.append(preprocess(image[idx,x:x+80,y:y+80].reshape((1,80,80,1))))\n",
    "                \n",
    "spots = np.vstack(coords)\n",
    "pred = model.predict_classes(spots)\n"
   ]
  },
  {
   "cell_type": "code",
   "execution_count": 11,
   "metadata": {
    "collapsed": false
   },
   "outputs": [
    {
     "name": "stdout",
     "output_type": "stream",
     "text": [
      "[{'coord': (11, 326, 64), 'pred': array([1])}]\n"
     ]
    },
    {
     "data": {
      "text/plain": [
       "(array([0, 1, 2]), array([1411,    2,    2]))"
      ]
     },
     "execution_count": 11,
     "metadata": {},
     "output_type": "execute_result"
    }
   ],
   "source": [
    "print(lesions)\n",
    "np.unique(pred, return_counts=True)"
   ]
  },
  {
   "cell_type": "code",
   "execution_count": 13,
   "metadata": {
    "collapsed": true
   },
   "outputs": [],
   "source": [
    "benign = glob('project1/CCM_Data/Benign/*')\n",
    "malign = glob('project1/CCM_Data/Malignant/*')"
   ]
  },
  {
   "cell_type": "code",
   "execution_count": 14,
   "metadata": {
    "collapsed": false
   },
   "outputs": [
    {
     "data": {
      "text/plain": [
       "['project1/CCM_Data/Benign/034',\n",
       " 'project1/CCM_Data/Benign/037',\n",
       " 'project1/CCM_Data/Benign/091',\n",
       " 'project1/CCM_Data/Benign/086',\n",
       " 'project1/CCM_Data/Benign/067',\n",
       " 'project1/CCM_Data/Benign/041',\n",
       " 'project1/CCM_Data/Benign/011',\n",
       " 'project1/CCM_Data/Benign/080',\n",
       " 'project1/CCM_Data/Benign/063',\n",
       " 'project1/CCM_Data/Benign/023',\n",
       " 'project1/CCM_Data/Benign/076',\n",
       " 'project1/CCM_Data/Benign/044',\n",
       " 'project1/CCM_Data/Benign/085',\n",
       " 'project1/CCM_Data/Benign/045',\n",
       " 'project1/CCM_Data/Benign/035',\n",
       " 'project1/CCM_Data/Benign/012',\n",
       " 'project1/CCM_Data/Benign/083',\n",
       " 'project1/CCM_Data/Benign/017',\n",
       " 'project1/CCM_Data/Benign/021',\n",
       " 'project1/CCM_Data/Benign/079',\n",
       " 'project1/CCM_Data/Benign/016',\n",
       " 'project1/CCM_Data/Benign/069',\n",
       " 'project1/CCM_Data/Benign/024',\n",
       " 'project1/CCM_Data/Benign/066',\n",
       " 'project1/CCM_Data/Benign/055',\n",
       " 'project1/CCM_Data/Benign/010',\n",
       " 'project1/CCM_Data/Benign/043',\n",
       " 'project1/CCM_Data/Benign/022',\n",
       " 'project1/CCM_Data/Benign/073',\n",
       " 'project1/CCM_Data/Benign/008',\n",
       " 'project1/CCM_Data/Benign/065',\n",
       " 'project1/CCM_Data/Benign/064',\n",
       " 'project1/CCM_Data/Benign/056',\n",
       " 'project1/CCM_Data/Benign/053',\n",
       " 'project1/CCM_Data/Benign/050',\n",
       " 'project1/CCM_Data/Benign/049',\n",
       " 'project1/CCM_Data/Benign/075',\n",
       " 'project1/CCM_Data/Benign/090',\n",
       " 'project1/CCM_Data/Benign/051',\n",
       " 'project1/CCM_Data/Benign/015',\n",
       " 'project1/CCM_Data/Benign/054',\n",
       " 'project1/CCM_Data/Benign/072',\n",
       " 'project1/CCM_Data/Benign/025',\n",
       " 'project1/CCM_Data/Benign/004',\n",
       " 'project1/CCM_Data/Benign/058',\n",
       " 'project1/CCM_Data/Benign/059',\n",
       " 'project1/CCM_Data/Benign/007',\n",
       " 'project1/CCM_Data/Benign/039',\n",
       " 'project1/CCM_Data/Benign/071',\n",
       " 'project1/CCM_Data/Benign/038',\n",
       " 'project1/CCM_Data/Benign/082',\n",
       " 'project1/CCM_Data/Benign/081',\n",
       " 'project1/CCM_Data/Benign/093',\n",
       " 'project1/CCM_Data/Benign/089',\n",
       " 'project1/CCM_Data/Benign/018',\n",
       " 'project1/CCM_Data/Benign/033',\n",
       " 'project1/CCM_Data/Benign/032',\n",
       " 'project1/CCM_Data/Benign/048',\n",
       " 'project1/CCM_Data/Benign/092',\n",
       " 'project1/CCM_Data/Benign/042',\n",
       " 'project1/CCM_Data/Benign/040',\n",
       " 'project1/CCM_Data/Benign/009',\n",
       " 'project1/CCM_Data/Benign/026',\n",
       " 'project1/CCM_Data/Benign/057',\n",
       " 'project1/CCM_Data/Benign/047',\n",
       " 'project1/CCM_Data/Benign/029',\n",
       " 'project1/CCM_Data/Benign/006',\n",
       " 'project1/CCM_Data/Benign/088',\n",
       " 'project1/CCM_Data/Benign/074',\n",
       " 'project1/CCM_Data/Benign/046',\n",
       " 'project1/CCM_Data/Benign/028',\n",
       " 'project1/CCM_Data/Benign/002',\n",
       " 'project1/CCM_Data/Benign/027',\n",
       " 'project1/CCM_Data/Benign/020',\n",
       " 'project1/CCM_Data/Benign/061',\n",
       " 'project1/CCM_Data/Benign/014',\n",
       " 'project1/CCM_Data/Benign/062',\n",
       " 'project1/CCM_Data/Benign/031',\n",
       " 'project1/CCM_Data/Benign/019',\n",
       " 'project1/CCM_Data/Benign/001',\n",
       " 'project1/CCM_Data/Benign/005',\n",
       " 'project1/CCM_Data/Benign/003',\n",
       " 'project1/CCM_Data/Benign/070',\n",
       " 'project1/CCM_Data/Benign/060',\n",
       " 'project1/CCM_Data/Benign/036',\n",
       " 'project1/CCM_Data/Benign/078',\n",
       " 'project1/CCM_Data/Benign/087',\n",
       " 'project1/CCM_Data/Benign/030',\n",
       " 'project1/CCM_Data/Benign/084',\n",
       " 'project1/CCM_Data/Benign/013',\n",
       " 'project1/CCM_Data/Benign/077',\n",
       " 'project1/CCM_Data/Benign/052',\n",
       " 'project1/CCM_Data/Benign/068']"
      ]
     },
     "execution_count": 14,
     "metadata": {},
     "output_type": "execute_result"
    }
   ],
   "source": []
  },
  {
   "cell_type": "code",
   "execution_count": null,
   "metadata": {
    "collapsed": true
   },
   "outputs": [],
   "source": []
  }
 ],
 "metadata": {
  "kernelspec": {
   "display_name": "Python 3",
   "language": "python",
   "name": "python3"
  },
  "language_info": {
   "codemirror_mode": {
    "name": "ipython",
    "version": 3
   },
   "file_extension": ".py",
   "mimetype": "text/x-python",
   "name": "python",
   "nbconvert_exporter": "python",
   "pygments_lexer": "ipython3",
   "version": "3.5.2"
  }
 },
 "nbformat": 4,
 "nbformat_minor": 2
}
