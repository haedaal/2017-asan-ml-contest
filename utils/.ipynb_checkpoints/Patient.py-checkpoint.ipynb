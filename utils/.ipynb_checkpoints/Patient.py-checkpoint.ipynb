{
 "cells": [
  {
   "cell_type": "code",
   "execution_count": null,
   "metadata": {
    "collapsed": true
   },
   "outputs": [],
   "source": [
    "class Patient:\n",
    "    def __init__(self, patient):\n",
    "        self.patient = patient\n",
    "        self.benign = patient['benign']\n",
    "        self.image = patient['image']\n",
    "        self.num_slice = image.shape[0]\n",
    "        mask = patient['mask']\n",
    "        self.mask = mask\n",
    "        self.background = patient['tag'][:,:,:,ROI]\n",
    "        ### Do some infitialization\n",
    "        ### like extract lesion coords and save\n",
    "        ###\n",
    "        \n",
    "        ### get nodules(either benign or malign) and save\n",
    "\n",
    "        self.lesions = []\n",
    "        for idx, mask_layer in enumerate(mask[1:-1]):\n",
    "            regions = measure.regionprops(measure.label(mask[n]))\n",
    "            if len(regions) == 0 or regions[0].area == 54:\n",
    "                pass\n",
    "            else:\n",
    "                region = regions[0]\n",
    "                bbox = region.bbox\n",
    "                centroid = region.centroid\n",
    "                ## save lesion's centroid\n",
    "                x, y = int(centroid[0]), int(centroid[1])\n",
    "                self.lesions.append((idx+1, x, y))\n",
    "                ## remove region around lesion from roi(==background)\n",
    "                self.background[idx+1, x:]\n",
    "                \n",
    "                \n",
    "        ### prepare non_nodule region(but how? efficiently?)\n",
    "        ### np.random.choice((roi - lesionArea).coords) ???\n",
    "        \n",
    "    ### recommended shift = 32\n",
    "    def getRandomLesion(self, shift=0, hflip=False, vflip=False):\n",
    "        idx, x, y = self.lesions[np.random.randint(len(self.lesions))]\n",
    "        xdev, ydev = np.random.randint(shift * 2, size=2) - shift\n",
    "        return self.image[idx][x+xdev-48:x+xdev+48, y+ydev-48:y+ydev+48]\n",
    "    \n",
    "    def isBenign(self):\n",
    "        return self.benign\n",
    "    \n",
    "    ## DO USE 'tag' of patient object to rip off unneccessary region\n",
    "    ## Exclude EXTERNAL_AIR area, inclu\n",
    "    def getRandomBackground(self):\n",
    "        ### pick random coord while it's outside tag['ROI'] or tag['INTERNAL_AIR']\n",
    "        while True:\n",
    "            roi = self.roi[np.random.randint(self.num_slice - 2) + 1,:,:]\n",
    "            image[idx][x+xdev-48:x+xdev+48, y+ydev-48:y+ydev+48]\n",
    "    \n",
    "    ## To stress on specific regions\n",
    "    def memorizeCoord(self, coord):\n",
    "        pass\n",
    "    "
   ]
  }
 ],
 "metadata": {
  "kernelspec": {
   "display_name": "Python 3",
   "language": "python",
   "name": "python3"
  },
  "language_info": {
   "codemirror_mode": {
    "name": "ipython",
    "version": 3
   },
   "file_extension": ".py",
   "mimetype": "text/x-python",
   "name": "python",
   "nbconvert_exporter": "python",
   "pygments_lexer": "ipython3",
   "version": "3.5.2"
  }
 },
 "nbformat": 4,
 "nbformat_minor": 2
}
