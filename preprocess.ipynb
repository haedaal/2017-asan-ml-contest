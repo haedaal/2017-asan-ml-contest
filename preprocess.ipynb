{
 "cells": [
  {
   "cell_type": "code",
   "execution_count": 1,
   "metadata": {
    "collapsed": false,
    "deletable": true,
    "editable": true
   },
   "outputs": [
    {
     "name": "stderr",
     "output_type": "stream",
     "text": [
      "/usr/local/lib/python3.5/dist-packages/dicom/__init__.py:53: UserWarning: \n",
      "This code is using an older version of pydicom, which is no longer \n",
      "maintained as of Jan 2017.  You can access the new pydicom features and API \n",
      "by installing `pydicom` from PyPI.\n",
      "See 'Transitioning to pydicom 1.x' section at pydicom.readthedocs.org \n",
      "for more information.\n",
      "\n",
      "  warnings.warn(msg)\n",
      "Using TensorFlow backend.\n"
     ]
    }
   ],
   "source": [
    "import dicom\n",
    "import inspect\n",
    "import pylab\n",
    "import numpy as np\n",
    "from glob import glob\n",
    "import os\n",
    "\n",
    "import matplotlib\n",
    "import matplotlib.pyplot as plt\n",
    "\n",
    "from keras.models import *\n",
    "from keras.layers import *\n",
    "from keras.optimizers import *\n",
    "from keras.utils.np_utils import to_categorical\n",
    "from keras.preprocessing.image import ImageDataGenerator\n",
    "\n",
    "import math\n",
    "from sys import stdout\n",
    "\n",
    "from utils.data_manager import *\n",
    "from utils.preprocess import *\n",
    "from skimage import measure, morphology\n",
    "from scipy import ndimage"
   ]
  },
  {
   "cell_type": "code",
   "execution_count": 2,
   "metadata": {
    "collapsed": false,
    "deletable": true,
    "editable": true
   },
   "outputs": [
    {
     "name": "stdout",
     "output_type": "stream",
     "text": [
      "93 347\n"
     ]
    }
   ],
   "source": [
    "benign_patients = glob('project1/CCM_Data/Benign/*')\n",
    "malign_patients = glob('project1/CCM_Data/Malignant/*')\n",
    "print(len(benign_patients), len(malign_patients))"
   ]
  },
  {
   "cell_type": "code",
   "execution_count": 6,
   "metadata": {
    "collapsed": false,
    "deletable": true,
    "editable": true
   },
   "outputs": [
    {
     "name": "stdout",
     "output_type": "stream",
     "text": [
      "processing benign001\n"
     ]
    },
    {
     "name": "stderr",
     "output_type": "stream",
     "text": [
      "/home/haedaal/workspace/utils/data_manager.py:61: FutureWarning: comparison to `None` will result in an elementwise object comparison in the future.\n",
      "  if _m == None:\n"
     ]
    },
    {
     "name": "stdout",
     "output_type": "stream",
     "text": [
      "processing benign002\n",
      "processing benign003\n",
      "processing benign004\n",
      "processing benign005\n",
      "processing benign006\n",
      "processing benign007\n",
      "processing benign008\n",
      "processing benign009\n",
      "processing benign010\n",
      "processing benign011\n",
      "processing benign012\n",
      "processing benign013\n",
      "processing benign014\n",
      "processing benign015\n",
      "processing benign016\n",
      "processing benign017\n",
      "processing benign018\n",
      "processing benign019\n",
      "processing benign020\n",
      "processing benign021\n",
      "processing benign022\n",
      "processing benign023\n",
      "processing benign024\n",
      "processing benign025\n",
      "processing benign026\n",
      "processing benign027\n",
      "processing benign028\n",
      "processing benign029\n",
      "processing benign030\n",
      "processing benign031\n",
      "processing benign032\n",
      "processing benign033\n",
      "processing benign034\n",
      "processing benign035\n",
      "processing benign036\n",
      "processing benign037\n",
      "processing benign038\n",
      "processing benign039\n",
      "processing benign040\n",
      "processing benign041\n",
      "processing benign042\n",
      "processing benign043\n",
      "processing benign044\n",
      "processing benign045\n",
      "processing benign046\n",
      "processing benign047\n",
      "processing benign048\n",
      "processing benign049\n",
      "processing benign050\n",
      "processing benign051\n",
      "processing benign052\n",
      "processing benign053\n",
      "processing benign054\n",
      "processing benign055\n",
      "processing benign056\n",
      "processing benign057\n",
      "processing benign058\n",
      "processing benign059\n",
      "processing benign060\n",
      "processing benign061\n",
      "processing benign062\n",
      "processing benign063\n",
      "processing benign064\n",
      "processing benign065\n",
      "processing benign066\n",
      "processing benign067\n",
      "processing benign068\n",
      "processing benign069\n",
      "processing benign070\n",
      "processing benign071\n",
      "processing benign072\n",
      "processing benign073\n",
      "processing benign074\n",
      "processing benign075\n",
      "processing benign076\n",
      "processing benign077\n",
      "processing benign078\n",
      "processing benign079\n",
      "processing benign080\n",
      "processing benign081\n",
      "processing benign082\n",
      "processing benign083\n",
      "processing benign084\n",
      "processing benign085\n",
      "processing benign086\n",
      "processing benign087\n",
      "processing benign088\n",
      "processing benign089\n",
      "processing benign090\n",
      "processing benign091\n",
      "processing benign092\n",
      "processing benign093\n"
     ]
    }
   ],
   "source": [
    "for idx, p in enumerate(sorted(benign_patients)):\n",
    "    filename = 'benign%03d' % (idx + 1)\n",
    "    print ('processing %s' % filename)\n",
    "    patient = load_patient(p)\n",
    "    tag = segmentation_3D(patient, True)\n",
    "    patient['benign'] = True\n",
    "    patient['tag'] = tag\n",
    "    np.save('data/' + filename, patient)"
   ]
  },
  {
   "cell_type": "code",
   "execution_count": null,
   "metadata": {
    "collapsed": false,
    "deletable": true,
    "editable": true
   },
   "outputs": [
    {
     "name": "stdout",
     "output_type": "stream",
     "text": [
      "processing malign001\n"
     ]
    },
    {
     "name": "stderr",
     "output_type": "stream",
     "text": [
      "/home/haedaal/workspace/utils/data_manager.py:61: FutureWarning: comparison to `None` will result in an elementwise object comparison in the future.\n",
      "  if _m == None:\n"
     ]
    },
    {
     "name": "stdout",
     "output_type": "stream",
     "text": [
      "processing malign002\n",
      "processing malign003\n",
      "processing malign004\n",
      "processing malign005\n",
      "processing malign006\n",
      "processing malign007\n",
      "processing malign008\n",
      "processing malign009\n",
      "processing malign010\n",
      "processing malign011\n",
      "processing malign012\n",
      "processing malign013\n",
      "processing malign014\n",
      "processing malign015\n",
      "processing malign016\n",
      "processing malign017\n",
      "processing malign018\n",
      "processing malign019\n",
      "processing malign020\n",
      "processing malign021\n",
      "processing malign022\n",
      "processing malign023\n",
      "processing malign024\n",
      "processing malign025\n",
      "processing malign026\n",
      "processing malign027\n",
      "processing malign028\n",
      "processing malign029\n",
      "processing malign030\n",
      "processing malign031\n",
      "processing malign032\n",
      "processing malign033\n",
      "processing malign034\n",
      "processing malign035\n",
      "processing malign036\n",
      "processing malign037\n",
      "processing malign038\n",
      "processing malign039\n",
      "processing malign040\n",
      "processing malign041\n",
      "processing malign042\n",
      "processing malign043\n",
      "processing malign044\n",
      "processing malign045\n",
      "processing malign046\n",
      "processing malign047\n",
      "processing malign048\n",
      "processing malign049\n",
      "processing malign050\n",
      "processing malign051\n",
      "processing malign052\n",
      "processing malign053\n",
      "processing malign054\n",
      "processing malign055\n",
      "processing malign056\n",
      "processing malign057\n",
      "processing malign058\n",
      "processing malign059\n",
      "processing malign060\n",
      "processing malign061\n",
      "processing malign062\n",
      "processing malign063\n",
      "processing malign064\n",
      "processing malign065\n",
      "processing malign066\n",
      "processing malign067\n",
      "processing malign068\n",
      "processing malign069\n",
      "processing malign070\n",
      "processing malign071\n",
      "processing malign072\n",
      "processing malign073\n",
      "processing malign074\n",
      "processing malign075\n",
      "processing malign076\n",
      "processing malign077\n",
      "processing malign078\n",
      "processing malign079\n",
      "processing malign080\n",
      "processing malign081\n",
      "processing malign082\n",
      "processing malign083\n",
      "processing malign084\n",
      "processing malign085\n",
      "processing malign086\n",
      "processing malign087\n",
      "processing malign088\n",
      "processing malign089\n",
      "processing malign090\n",
      "processing malign091\n",
      "processing malign092\n",
      "processing malign093\n",
      "processing malign094\n",
      "processing malign095\n",
      "processing malign096\n",
      "processing malign097\n",
      "processing malign098\n",
      "processing malign099\n",
      "processing malign100\n",
      "processing malign101\n",
      "processing malign102\n",
      "processing malign103\n",
      "processing malign104\n",
      "processing malign105\n",
      "processing malign106\n",
      "processing malign107\n",
      "processing malign108\n",
      "processing malign109\n",
      "processing malign110\n",
      "processing malign111\n",
      "processing malign112\n",
      "processing malign113\n",
      "processing malign114\n",
      "processing malign115\n",
      "processing malign116\n",
      "processing malign117\n",
      "processing malign118\n",
      "processing malign119\n",
      "processing malign120\n",
      "processing malign121\n",
      "processing malign122\n",
      "processing malign123\n",
      "processing malign124\n",
      "processing malign125\n",
      "processing malign126\n",
      "processing malign127\n",
      "processing malign128\n",
      "processing malign129\n",
      "processing malign130\n",
      "processing malign131\n",
      "processing malign132\n",
      "processing malign133\n",
      "processing malign134\n",
      "processing malign135\n",
      "processing malign136\n",
      "processing malign137\n",
      "processing malign138\n",
      "processing malign139\n",
      "processing malign140\n",
      "processing malign141\n",
      "processing malign142\n",
      "processing malign143\n"
     ]
    }
   ],
   "source": [
    "for idx, p in enumerate(sorted(malign_patients)):\n",
    "    filename = 'malign%03d' % (idx + 1)\n",
    "    print ('processing %s' % filename)\n",
    "    patient = load_patient(p)\n",
    "    tag = segmentation_3D(patient, False)\n",
    "    patient['benign'] = False\n",
    "    patient['tag'] = tag\n",
    "    np.save('data/' + filename, patient)"
   ]
  },
  {
   "cell_type": "code",
   "execution_count": 4,
   "metadata": {
    "collapsed": false,
    "deletable": true,
    "editable": true
   },
   "outputs": [
    {
     "data": {
      "text/plain": [
       "(80, 512, 512)"
      ]
     },
     "execution_count": 4,
     "metadata": {},
     "output_type": "execute_result"
    }
   ],
   "source": [
    "p4['image'].shape"
   ]
  },
  {
   "cell_type": "code",
   "execution_count": 5,
   "metadata": {
    "collapsed": false,
    "deletable": true,
    "editable": true
   },
   "outputs": [
    {
     "data": {
      "text/plain": [
       "(80, 512, 512)"
      ]
     },
     "execution_count": 5,
     "metadata": {},
     "output_type": "execute_result"
    }
   ],
   "source": [
    "p4['mask'].shape"
   ]
  },
  {
   "cell_type": "code",
   "execution_count": 17,
   "metadata": {
    "collapsed": false,
    "deletable": true,
    "editable": true
   },
   "outputs": [
    {
     "data": {
      "text/plain": [
       "'project1/CCM_Data/Benign/091'"
      ]
     },
     "execution_count": 17,
     "metadata": {},
     "output_type": "execute_result"
    }
   ],
   "source": [
    "benign_patients[2]"
   ]
  },
  {
   "cell_type": "code",
   "execution_count": 6,
   "metadata": {
    "collapsed": false,
    "deletable": true,
    "editable": true
   },
   "outputs": [],
   "source": [
    "l = [1,2,3]\n",
    "l.remove(2)"
   ]
  },
  {
   "cell_type": "code",
   "execution_count": 4,
   "metadata": {
    "collapsed": false,
    "deletable": true,
    "editable": true
   },
   "outputs": [],
   "source": [
    "testdata = glob('project1-test/*')"
   ]
  },
  {
   "cell_type": "code",
   "execution_count": null,
   "metadata": {
    "collapsed": false,
    "deletable": true,
    "editable": true
   },
   "outputs": [
    {
     "name": "stdout",
     "output_type": "stream",
     "text": [
      "processing test001\n"
     ]
    },
    {
     "name": "stderr",
     "output_type": "stream",
     "text": [
      "/home/haedaal/workspace/utils/data_manager.py:61: FutureWarning: comparison to `None` will result in an elementwise object comparison in the future.\n",
      "  if _m == None:\n"
     ]
    },
    {
     "name": "stdout",
     "output_type": "stream",
     "text": [
      "processing test002\n",
      "processing test003\n",
      "processing test004\n",
      "processing test005\n",
      "processing test006\n",
      "processing test007\n",
      "processing test008\n",
      "processing test009\n",
      "processing test010\n",
      "processing test011\n",
      "processing test012\n",
      "processing test013\n",
      "processing test014\n",
      "processing test015\n",
      "processing test016\n",
      "processing test017\n",
      "processing test018\n",
      "processing test019\n",
      "processing test020\n",
      "processing test021\n",
      "processing test022\n",
      "processing test023\n",
      "processing test024\n",
      "processing test025\n",
      "processing test026\n",
      "processing test027\n",
      "processing test028\n",
      "processing test029\n",
      "processing test030\n",
      "processing test031\n",
      "processing test032\n",
      "processing test033\n",
      "processing test034\n",
      "processing test035\n",
      "processing test036\n",
      "processing test037\n",
      "processing test038\n",
      "processing test039\n",
      "processing test040\n",
      "processing test041\n",
      "processing test047\n",
      "processing test048\n",
      "processing test049\n",
      "processing test050\n",
      "processing test051\n",
      "processing test052\n",
      "processing test053\n",
      "processing test054\n",
      "processing test055\n",
      "processing test056\n",
      "processing test057\n",
      "processing test058\n",
      "processing test059\n",
      "processing test060\n",
      "processing test061\n",
      "processing test062\n"
     ]
    }
   ],
   "source": [
    "for idx, p in enumerate(sorted(testdata)):\n",
    "    filename = 'test%03d' % (idx + 1)\n",
    "    print ('processing %s' % filename)\n",
    "    patient = load_patient(p)\n",
    "    tag = segmentation_3D(patient, False)\n",
    "    patient['benign'] = False\n",
    "    patient['tag'] = tag\n",
    "    np.save('testdata/' + filename, patient)"
   ]
  },
  {
   "cell_type": "code",
   "execution_count": null,
   "metadata": {
    "collapsed": true
   },
   "outputs": [],
   "source": []
  }
 ],
 "metadata": {
  "kernelspec": {
   "display_name": "Python 3",
   "language": "python",
   "name": "python3"
  },
  "language_info": {
   "codemirror_mode": {
    "name": "ipython",
    "version": 3
   },
   "file_extension": ".py",
   "mimetype": "text/x-python",
   "name": "python",
   "nbconvert_exporter": "python",
   "pygments_lexer": "ipython3",
   "version": "3.5.2"
  }
 },
 "nbformat": 4,
 "nbformat_minor": 2
}
