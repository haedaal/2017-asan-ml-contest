{
 "cells": [
  {
   "cell_type": "code",
   "execution_count": 1,
   "metadata": {
    "collapsed": false,
    "deletable": true,
    "editable": true
   },
   "outputs": [
    {
     "name": "stderr",
     "output_type": "stream",
     "text": [
      "/usr/local/lib/python3.5/dist-packages/dicom/__init__.py:53: UserWarning: \n",
      "This code is using an older version of pydicom, which is no longer \n",
      "maintained as of Jan 2017.  You can access the new pydicom features and API \n",
      "by installing `pydicom` from PyPI.\n",
      "See 'Transitioning to pydicom 1.x' section at pydicom.readthedocs.org \n",
      "for more information.\n",
      "\n",
      "  warnings.warn(msg)\n",
      "Using TensorFlow backend.\n"
     ]
    }
   ],
   "source": [
    "import dicom\n",
    "import inspect\n",
    "import pylab\n",
    "import numpy as np\n",
    "from glob import glob\n",
    "import os\n",
    "\n",
    "import matplotlib\n",
    "import matplotlib.pyplot as plt\n",
    "\n",
    "from keras.models import *\n",
    "from keras.layers import *\n",
    "from keras.optimizers import *\n",
    "from keras.utils.np_utils import to_categorical\n",
    "from keras.preprocessing.image import ImageDataGenerator\n",
    "\n",
    "from ml_utils import *\n",
    "import math\n",
    "from sys import stdout"
   ]
  },
  {
   "cell_type": "code",
   "execution_count": 2,
   "metadata": {
    "collapsed": false,
    "deletable": true,
    "editable": true
   },
   "outputs": [],
   "source": [
    "benigns = np.load('benign_cropped.npy')\n",
    "maligs = np.load('malig_cropped.npy')\n",
    "nroi = np.load('nroi.npy')"
   ]
  },
  {
   "cell_type": "code",
   "execution_count": 3,
   "metadata": {
    "collapsed": false,
    "deletable": true,
    "editable": true
   },
   "outputs": [],
   "source": [
    "benigns = preprocess(np.array(list(map(getFromSlice('roi'), flatten(benigns)))))\n",
    "maligs = preprocess(np.array(list(map(getFromSlice('roi'), flatten(maligs)))))\n",
    "nroi = preprocess(np.array(list(map(getFromSlice('nroi'), flatten(nroi)))))"
   ]
  },
  {
   "cell_type": "code",
   "execution_count": 4,
   "metadata": {
    "collapsed": false,
    "deletable": true,
    "editable": true
   },
   "outputs": [],
   "source": [
    "np.random.shuffle(benigns)\n",
    "np.random.shuffle(maligs)\n",
    "np.random.shuffle(nroi)"
   ]
  },
  {
   "cell_type": "code",
   "execution_count": 5,
   "metadata": {
    "collapsed": true,
    "deletable": true,
    "editable": true
   },
   "outputs": [],
   "source": [
    "nb = benigns.shape[0] // 3\n",
    "nm = maligs.shape[0] // 3\n",
    "nn = nroi.shape[0] // 3\n",
    "b_t = benigns[:-nb]\n",
    "b_v = benigns[-nb:]\n",
    "m_t = maligs[:-nm]\n",
    "m_v = maligs[-nm:]\n",
    "n_t = nroi[:-nn]\n",
    "n_v = nroi[-nn:]"
   ]
  },
  {
   "cell_type": "code",
   "execution_count": 6,
   "metadata": {
    "collapsed": false,
    "deletable": true,
    "editable": true
   },
   "outputs": [],
   "source": [
    "data_gen = symmetric_data_generator([b_t, m_t, n_t],[np.array([0,1,0]),np.array([0,0,1]),np.array([1,0,0])], 96)"
   ]
  },
  {
   "cell_type": "code",
   "execution_count": 7,
   "metadata": {
    "collapsed": false,
    "deletable": true,
    "editable": true
   },
   "outputs": [],
   "source": [
    "X, y = next(data_gen)"
   ]
  },
  {
   "cell_type": "code",
   "execution_count": 8,
   "metadata": {
    "collapsed": false,
    "deletable": true,
    "editable": true
   },
   "outputs": [
    {
     "name": "stdout",
     "output_type": "stream",
     "text": [
      "(96, 80, 80, 1) (96, 3)\n"
     ]
    }
   ],
   "source": [
    "print(X.shape, y.shape)"
   ]
  },
  {
   "cell_type": "code",
   "execution_count": 9,
   "metadata": {
    "collapsed": false,
    "deletable": true,
    "editable": true
   },
   "outputs": [],
   "source": [
    "model = Sequential()\n",
    "model.add(Convolution2D(32, 3, 3, input_shape=(80, 80, 1)))\n",
    "model.add(Activation('relu'))\n",
    "model.add(Convolution2D(32, 3, 3))\n",
    "model.add(Activation('relu'))\n",
    "model.add(MaxPooling2D(pool_size=(2, 2)))\n",
    "model.add(Dropout(0.1))\n",
    "\n",
    "model.add(Convolution2D(64, 3, 3))\n",
    "model.add(Activation('relu'))\n",
    "model.add(Convolution2D(128, 3, 3))\n",
    "model.add(Activation('relu'))\n",
    "model.add(MaxPooling2D(pool_size=(2, 2)))\n",
    "model.add(Dropout(0.1))\n",
    "\n",
    "model.add(Flatten())\n",
    "model.add(Dense(256))\n",
    "model.add(Activation('relu'))\n",
    "model.add(Dropout(0.1))\n",
    "model.add(Dense(64))\n",
    "model.add(Activation('relu'))\n",
    "model.add(Dropout(0.1))\n",
    "\n",
    "model.add(Dense(3))\n",
    "model.add(Activation('sigmoid'))\n",
    "\n",
    "model.compile(loss='binary_crossentropy', optimizer='rmsprop', metrics=['precision', 'recall'])"
   ]
  },
  {
   "cell_type": "code",
   "execution_count": 10,
   "metadata": {
    "collapsed": true,
    "deletable": true,
    "editable": true
   },
   "outputs": [],
   "source": [
    "imgGen = ImageDataGenerator(\n",
    "    horizontal_flip=True,\n",
    "    vertical_flip=True)"
   ]
  },
  {
   "cell_type": "code",
   "execution_count": 11,
   "metadata": {
    "collapsed": false,
    "deletable": true,
    "editable": true
   },
   "outputs": [],
   "source": [
    "val_feeder = symmetric_data_generator([b_v, m_v, n_v], [np.array([0,1,0]),np.array([0,0,1]),np.array([1,0,0])], 192)\n",
    "\n",
    "def evaluate(model):\n",
    "    X, y = next(val_feeder)\n",
    "    res = model.evaluate(X, y)\n",
    "    print ('validation loss: %f\\t prec: %f\\trecall: %f' % tuple(res))"
   ]
  },
  {
   "cell_type": "code",
   "execution_count": 19,
   "metadata": {
    "collapsed": false,
    "deletable": true,
    "editable": true,
    "scrolled": false
   },
   "outputs": [
    {
     "name": "stdout",
     "output_type": "stream",
     "text": [
      "Epoch 0\n",
      "192/192 [==============================] - 0s      recall: 1.000000\b\b\b\b\b\b\b\b\b\b\b\b\b\b\b\b\b\b\b\b\b\b\b\b\b\b\b\b\b\b\b\b\b\b\b\b\b\b\b\b\b\b\b\b\b\b\b\b\b\b\b\b\b\b\b\b\b\b\b\b\b\b\b\b\b\b\b\b\b\b\b\b\b\b\b\b\b\b\b\b\b\b\b\b\b\b\b\b\b\b\b\b\b\b\b\b\b\b\b\b\b\b\b\b\b\b\b\b\b\b\b\b\b\b\b\b\b\b\b\b\b\b\b\b\b\b\b\b\b\b\b\b\b\b\b\b\b\b\b\b\b\b\b\b\b\b\b\b\b\b\b\b\b\b\b\b\b\b\b\b\b\b\b\b\b\b\b\b\b\b\b\b\b\b\b\b\b\b\b\b\b\b\b\b\b\b\b\b\b\b\b\b\b\b\b\b\b\b\b\b\b\b\b\b\b\b\b\b\b\b\b\b\b\b\b\b\b\b\b\b\b\b\b\b\b\b\b\b\b\b\b\b\b\b\b\b\b\b\b\b\b\b\b\b\b\b\b\b\b\b\n",
      "validation loss: 0.258577\t prec: 0.901159\trecall: 0.901042\n",
      "Epoch 1\n",
      "192/192 [==============================] - 0s      recall: 0.989583\b\b\b\b\b\b\b\b\b\b\b\b\b\b\b\b\b\b\b\b\b\b\b\b\b\b\b\b\b\b\b\b\b\b\b\b\b\b\b\b\b\b\b\b\b\b\b\b\b\b\b\b\b\b\b\b\b\b\b\b\b\b\b\b\b\b\b\b\b\b\b\b\b\b\b\b\b\b\b\b\b\b\b\b\b\b\b\b\b\b\b\b\b\b\b\b\b\b\b\b\b\b\b\b\b\b\b\b\b\b\b\b\b\b\b\b\b\b\b\b\b\b\b\b\b\b\b\b\b\b\b\b\b\b\b\b\b\b\b\b\b\b\b\b\b\b\b\b\b\b\b\b\b\b\b\b\b\b\b\b\b\b\b\b\b\b\b\b\b\b\b\b\b\b\b\b\b\b\b\b\b\b\b\b\b\b\b\b\b\b\b\b\b\b\b\b\b\b\b\b\b\b\b\b\b\b\b\b\b\b\b\b\b\b\b\b\b\b\b\b\b\b\b\b\b\b\b\b\b\b\b\b\b\b\b\b\b\b\b\b\b\b\b\b\b\b\b\b\b\b\n",
      "validation loss: 0.395559\t prec: 0.856183\trecall: 0.843750\n",
      "Epoch 2\n",
      "192/192 [==============================] - 0s      recall: 0.989583\b\b\b\b\b\b\b\b\b\b\b\b\b\b\b\b\b\b\b\b\b\b\b\b\b\b\b\b\b\b\b\b\b\b\b\b\b\b\b\b\b\b\b\b\b\b\b\b\b\b\b\b\b\b\b\b\b\b\b\b\b\b\b\b\b\b\b\b\b\b\b\b\b\b\b\b\b\b\b\b\b\b\b\b\b\b\b\b\b\b\b\b\b\b\b\b\b\b\b\b\b\b\b\b\b\b\b\b\b\b\b\b\b\b\b\b\b\b\b\b\b\b\b\b\b\b\b\b\b\b\b\b\b\b\b\b\b\b\b\b\b\b\b\b\b\b\b\b\b\b\b\b\b\b\b\b\b\b\b\b\b\b\b\b\b\b\b\b\b\b\b\b\b\b\b\b\b\b\b\b\b\b\b\b\b\b\b\b\b\b\b\b\b\b\b\b\b\b\b\b\b\b\b\b\b\b\b\b\b\b\b\b\b\b\b\b\b\b\b\b\b\b\b\b\b\b\b\b\b\b\b\b\b\b\b\b\b\b\b\b\b\b\b\b\b\b\b\b\b\b\n",
      "validation loss: 0.245623\t prec: 0.899026\trecall: 0.890625\n"
     ]
    }
   ],
   "source": [
    "nb_epoch = 3\n",
    "nb_batch = 3\n",
    "\n",
    "for e in range(nb_epoch):\n",
    "    print ('Epoch %d' % e)\n",
    "    for i in range(nb_batch):\n",
    "        xx, yy = next(data_gen)\n",
    "        X, y = next(imgGen.flow(xx, yy, batch_size=96))\n",
    "        loss = model.train_on_batch(X, y)\n",
    "        stdout.write('\\rbatch - %d ## train loss: %f\\t prec: %f\\t recall: %f' % tuple([i] + loss))\n",
    "    evaluate(model)"
   ]
  },
  {
   "cell_type": "code",
   "execution_count": 24,
   "metadata": {
    "collapsed": false,
    "deletable": true,
    "editable": true
   },
   "outputs": [
    {
     "name": "stdout",
     "output_type": "stream",
     "text": [
      "192/192 [==============================] - 1s     \b\b\b\b\b\b\b\b\b\b\b\b\b\b\b\b\b\b\b\b\b\b\b\b\b\b\b\b\b\b\b\b\b\b\b\b\b\b\b\b\b\b\b\b\b\b\b\b\b\b\b\b\b\b\b\b\b\b\b\b\b\b\b\b\b\b\b\b\b\b\b\b\b\b\b\b\b\b\b\b\b\b\b\b\b\b\b\b\b\b\b\b\b\b\b\b\b\b\b\b\b\b\b\b\b\b\b\b\b\b\b\b\b\b\b\b\b\b\b\b\b\b\b\b\b\b\b\b\b\b\b\b\b\b\b\b\b\b\b\b\b\b\b\b\b\b\b\b\b\b\b\b\b\b\b\b\b\b\b\b\b\b\b\b\b\b\b\b\b\b\b\b\b\b\b\b\b\b\b\b\b\b\b\b\b\b\b\b\b\b\b\b\b\b\b\b\b\b\b\b\b\b\b\b\b\b\b\b\b\b\b\b\b\b\b\b\b\b\b\b\b\b\b\b\b\b\b\b\b\b\b\b\b\b\b\b\b\b\b\b\b\b\b\b\b\b\b\b\b\b\n",
      "validation loss: 0.361337\t prec: 0.928819\trecall: 0.911458\n"
     ]
    }
   ],
   "source": [
    "evaluate(model)"
   ]
  },
  {
   "cell_type": "code",
   "execution_count": 25,
   "metadata": {
    "collapsed": false,
    "deletable": true,
    "editable": true
   },
   "outputs": [],
   "source": [
    "model.save('model-babystep3-control-triple-binary-classification.h5')"
   ]
  },
  {
   "cell_type": "code",
   "execution_count": 75,
   "metadata": {
    "collapsed": false,
    "deletable": true,
    "editable": true
   },
   "outputs": [
    {
     "name": "stdout",
     "output_type": "stream",
     "text": [
      "1/1 [==============================] - 0s\n",
      "1/1 [==============================] - 0s\n",
      "1/1 [==============================] - 0s\n",
      "1/1 [==============================] - 0s\n",
      "1/1 [==============================] - 0s\n",
      "1/1 [==============================] - 0s\n",
      "1/1 [==============================] - 0s\n",
      "1/1 [==============================] - 0s\n",
      "2/2 [==============================] - 0s\n",
      "2/2 [==============================] - 0s\n",
      "3/3 [==============================] - 0s\n",
      "1/1 [==============================] - 0s\n",
      "5/5 [==============================] - 0s\n",
      "2/2 [==============================] - 0s\n",
      "5/5 [==============================] - 0s\n",
      "4/4 [==============================] - 0s\n",
      "1/1 [==============================] - 0s\n",
      "4/4 [==============================] - 0s\n",
      "2/2 [==============================] - 0s\n",
      "2/2 [==============================] - 0s\n",
      "2/2 [==============================] - 0s\n",
      "2/2 [==============================] - 0s\n",
      "3/3 [==============================] - 0s\n",
      "4/4 [==============================] - 0s\n",
      "3/3 [==============================] - 0s\n",
      "1/1 [==============================] - 0s\n",
      "13/13 [==============================] - 0s\n",
      "1/1 [==============================] - 0s\n",
      "1/1 [==============================] - 0s\n",
      "1/1 [==============================] - 0s\n",
      "20/20 [==============================] - 0s\n",
      "1/1 [==============================] - 0s\n",
      "1/1 [==============================] - 0s\n",
      "1/1 [==============================] - 0s\n",
      "1/1 [==============================] - 0s\n",
      "1/1 [==============================] - 0s\n",
      "1/1 [==============================] - 0s\n",
      "1/1 [==============================] - 0s\n",
      "1/1 [==============================] - 0s\n",
      "1/1 [==============================] - 0s\n",
      "1/1 [==============================] - 0s\n",
      "1/1 [==============================] - 0s\n",
      "1/1 [==============================] - 0s\n",
      "1/1 [==============================] - 0s\n",
      "2/2 [==============================] - 0s\n",
      "1/1 [==============================] - 0s\n",
      "4/4 [==============================] - 0s\n",
      "1/1 [==============================] - 0s\n",
      "1/1 [==============================] - 0s\n",
      "1/1 [==============================] - 0s\n",
      "1/1 [==============================] - 0s\n",
      "1/1 [==============================] - 0s\n",
      "1/1 [==============================] - 0s\n",
      "2/2 [==============================] - 0s\n",
      "1/1 [==============================] - 0s\n",
      "1/1 [==============================] - 0s\n",
      "1/1 [==============================] - 0s\n",
      "1/1 [==============================] - 0s\n",
      "3/3 [==============================] - 0s\n",
      "2/2 [==============================] - 0s\n",
      "2/2 [==============================] - 0s\n",
      "4/4 [==============================] - 0s\n",
      "2/2 [==============================] - 0s\n",
      "1/1 [==============================] - 0s\n",
      "1/1 [==============================] - 0s\n",
      "3/3 [==============================] - 0s\n",
      "2/2 [==============================] - 0s\n",
      "2/2 [==============================] - 0s\n",
      "4/4 [==============================] - 0s\n",
      "2/2 [==============================] - 0s\n",
      "2/2 [==============================] - 0s\n",
      "2/2 [==============================] - 0s\n",
      "4/4 [==============================] - 0s\n",
      "4/4 [==============================] - 0s\n",
      "3/3 [==============================] - 0s\n",
      "4/4 [==============================] - 0s\n",
      "3/3 [==============================] - 0s\n",
      "3/3 [==============================] - 0s\n",
      "1/1 [==============================] - 0s\n",
      "3/3 [==============================] - 0s\n",
      "2/2 [==============================] - 0s\n",
      "3/3 [==============================] - 0s\n",
      "2/2 [==============================] - 0s\n",
      "3/3 [==============================] - 0s\n",
      "5/5 [==============================] - 0s\n",
      "3/3 [==============================] - 0s\n",
      "2/2 [==============================] - 0s\n",
      "2/2 [==============================] - 0s\n",
      "2/2 [==============================] - 0s\n",
      "5/5 [==============================] - 0s\n",
      "3/3 [==============================] - 0s\n",
      "2/2 [==============================] - 0s\n",
      "4/4 [==============================] - 0s\n"
     ]
    }
   ],
   "source": [
    "benigns = np.load('benign_cropped.npy')\n",
    "\n",
    "stats = []\n",
    "for b in benigns:\n",
    "    res = model.predict_classes(preprocess(np.array(list(map(lambda slice: slice['roi'], b)))))\n",
    "    stats.append(res)"
   ]
  },
  {
   "cell_type": "code",
   "execution_count": 76,
   "metadata": {
    "collapsed": false,
    "deletable": true,
    "editable": true
   },
   "outputs": [
    {
     "data": {
      "image/png": "[encoded data removed]",
      "text/plain": [
       "<matplotlib.figure.Figure object at 0x7f858541f908>"
      ]
     },
     "metadata": {},
     "output_type": "display_data"
    }
   ],
   "source": [
    "sss = [s.sum() / len(s) for s in stats]\n",
    "\n",
    "plt.plot(sss, 'rx')\n",
    "plt.show()"
   ]
  },
  {
   "cell_type": "code",
   "execution_count": 73,
   "metadata": {
    "collapsed": false,
    "deletable": true,
    "editable": true
   },
   "outputs": [
    {
     "name": "stdout",
     "output_type": "stream",
     "text": [
      "1/1 [==============================] - 0s\n",
      "2/2 [==============================] - 0s\n",
      "4/4 [==============================] - 0s\n",
      "3/3 [==============================] - 0s\n",
      "4/4 [==============================] - 0s\n",
      "1/1 [==============================] - 0s\n",
      "2/2 [==============================] - 0s\n",
      "2/2 [==============================] - 0s\n",
      "1/1 [==============================] - 0s\n",
      "3/3 [==============================] - 0s\n",
      "2/2 [==============================] - 0s\n",
      "5/5 [==============================] - 0s\n",
      "3/3 [==============================] - 0s\n",
      "3/3 [==============================] - 0s\n",
      "5/5 [==============================] - 0s\n",
      "2/2 [==============================] - 0s\n",
      "3/3 [==============================] - 0s\n",
      "3/3 [==============================] - 0s\n",
      "4/4 [==============================] - 0s\n",
      "2/2 [==============================] - 0s\n",
      "2/2 [==============================] - 0s\n",
      "4/4 [==============================] - 0s\n",
      "2/2 [==============================] - 0s\n",
      "6/6 [==============================] - 0s\n",
      "1/1 [==============================] - 0s\n",
      "3/3 [==============================] - 0s\n",
      "4/4 [==============================] - 0s\n",
      "3/3 [==============================] - 0s\n",
      "3/3 [==============================] - 0s\n",
      "2/2 [==============================] - 0s\n",
      "3/3 [==============================] - 0s\n",
      "1/1 [==============================] - 0s\n",
      "1/1 [==============================] - 0s\n",
      "5/5 [==============================] - 0s\n",
      "1/1 [==============================] - 0s\n",
      "1/1 [==============================] - 0s\n",
      "1/1 [==============================] - 0s\n",
      "2/2 [==============================] - 0s\n",
      "3/3 [==============================] - 0s\n",
      "1/1 [==============================] - 0s\n",
      "2/2 [==============================] - 0s\n",
      "2/2 [==============================] - 0s\n",
      "3/3 [==============================] - 0s\n",
      "2/2 [==============================] - 0s\n",
      "5/5 [==============================] - 0s\n",
      "3/3 [==============================] - 0s\n",
      "7/7 [==============================] - 0s\n",
      "2/2 [==============================] - 0s\n",
      "1/1 [==============================] - 0s\n",
      "2/2 [==============================] - 0s\n",
      "4/4 [==============================] - 0s\n",
      "1/1 [==============================] - 0s\n",
      "3/3 [==============================] - 0s\n",
      "6/6 [==============================] - 0s\n",
      "6/6 [==============================] - 0s\n",
      "3/3 [==============================] - 0s\n",
      "4/4 [==============================] - 0s\n",
      "3/3 [==============================] - 0s\n",
      "6/6 [==============================] - 0s\n",
      "1/1 [==============================] - 0s\n",
      "2/2 [==============================] - 0s\n",
      "3/3 [==============================] - 0s\n",
      "2/2 [==============================] - 0s\n",
      "3/3 [==============================] - 0s\n",
      "2/2 [==============================] - 0s\n",
      "5/5 [==============================] - 0s\n",
      "3/3 [==============================] - 0s\n",
      "1/1 [==============================] - 0s\n",
      "3/3 [==============================] - 0s\n",
      "1/1 [==============================] - 0s\n",
      "1/1 [==============================] - 0s\n",
      "3/3 [==============================] - 0s\n",
      "1/1 [==============================] - 0s\n",
      "2/2 [==============================] - 0s\n",
      "5/5 [==============================] - 0s\n",
      "1/1 [==============================] - 0s\n",
      "1/1 [==============================] - 0s\n",
      "2/2 [==============================] - 0s\n",
      "2/2 [==============================] - 0s\n",
      "6/6 [==============================] - 0s\n",
      "1/1 [==============================] - 0s\n",
      "2/2 [==============================] - 0s\n",
      "4/4 [==============================] - 0s\n",
      "4/4 [==============================] - 0s\n",
      "4/4 [==============================] - 0s\n",
      "5/5 [==============================] - 0s\n",
      "2/2 [==============================] - 0s\n",
      "4/4 [==============================] - 0s\n",
      "2/2 [==============================] - 0s\n",
      "2/2 [==============================] - 0s\n",
      "4/4 [==============================] - 0s\n",
      "3/3 [==============================] - 0s\n",
      "4/4 [==============================] - 0s\n",
      "1/1 [==============================] - 0s\n",
      "3/3 [==============================] - 0s\n",
      "6/6 [==============================] - 0s\n",
      "2/2 [==============================] - 0s\n",
      "1/1 [==============================] - 0s\n",
      "5/5 [==============================] - 0s\n",
      "4/4 [==============================] - 0s\n",
      "2/2 [==============================] - 0s\n",
      "3/3 [==============================] - 0s\n",
      "6/6 [==============================] - 0s\n",
      "2/2 [==============================] - 0s\n",
      "9/9 [==============================] - 0s\n",
      "3/3 [==============================] - 0s\n",
      "2/2 [==============================] - 0s\n",
      "2/2 [==============================] - 0s\n",
      "4/4 [==============================] - 0s\n",
      "3/3 [==============================] - 0s\n",
      "3/3 [==============================] - 0s\n",
      "1/1 [==============================] - 0s\n",
      "2/2 [==============================] - 0s\n",
      "5/5 [==============================] - 0s\n",
      "6/6 [==============================] - 0s\n",
      "1/1 [==============================] - 0s\n",
      "1/1 [==============================] - 0s\n",
      "1/1 [==============================] - 0s\n",
      "2/2 [==============================] - 0s\n",
      "4/4 [==============================] - 0s\n",
      "4/4 [==============================] - 0s\n",
      "3/3 [==============================] - 0s\n",
      "3/3 [==============================] - 0s\n",
      "3/3 [==============================] - 0s\n",
      "3/3 [==============================] - 0s\n",
      "3/3 [==============================] - 0s\n",
      "2/2 [==============================] - 0s\n",
      "2/2 [==============================] - 0s\n",
      "2/2 [==============================] - 0s\n",
      "3/3 [==============================] - 0s\n",
      "2/2 [==============================] - 0s\n",
      "3/3 [==============================] - 0s\n",
      "2/2 [==============================] - 0s\n",
      "4/4 [==============================] - 0s\n",
      "2/2 [==============================] - 0s\n",
      "3/3 [==============================] - 0s\n",
      "3/3 [==============================] - 0s\n",
      "2/2 [==============================] - 0s\n",
      "1/1 [==============================] - 0s\n",
      "1/1 [==============================] - 0s\n",
      "3/3 [==============================] - 0s\n",
      "3/3 [==============================] - 0s\n",
      "3/3 [==============================] - 0s\n",
      "1/1 [==============================] - 0s\n",
      "4/4 [==============================] - 0s\n",
      "2/2 [==============================] - 0s\n",
      "3/3 [==============================] - 0s\n",
      "1/1 [==============================] - 0s\n",
      "3/3 [==============================] - 0s\n",
      "4/4 [==============================] - 0s\n",
      "4/4 [==============================] - 0s\n",
      "6/6 [==============================] - 0s\n",
      "3/3 [==============================] - 0s\n",
      "3/3 [==============================] - 0s\n",
      "5/5 [==============================] - 0s\n",
      "4/4 [==============================] - 0s\n",
      "5/5 [==============================] - 0s\n",
      "3/3 [==============================] - 0s\n",
      "3/3 [==============================] - 0s\n",
      "4/4 [==============================] - 0s\n",
      "6/6 [==============================] - 0s\n",
      "5/5 [==============================] - 0s\n",
      "5/5 [==============================] - 0s\n",
      "3/3 [==============================] - 0s\n",
      "5/5 [==============================] - 0s\n",
      "4/4 [==============================] - 0s\n",
      "3/3 [==============================] - 0s\n",
      "2/2 [==============================] - 0s\n",
      "2/2 [==============================] - 0s\n",
      "4/4 [==============================] - 0s\n",
      "8/8 [==============================] - 0s\n",
      "3/3 [==============================] - 0s\n",
      "3/3 [==============================] - 0s\n",
      "3/3 [==============================] - 0s\n",
      "4/4 [==============================] - 0s\n",
      "2/2 [==============================] - 0s\n",
      "1/1 [==============================] - 0s\n",
      "4/4 [==============================] - 0s\n",
      "5/5 [==============================] - 0s\n",
      "4/4 [==============================] - 0s\n",
      "4/4 [==============================] - 0s\n",
      "3/3 [==============================] - 0s\n",
      "4/4 [==============================] - 0s\n",
      "3/3 [==============================] - 0s\n",
      "3/3 [==============================] - 0s\n",
      "5/5 [==============================] - 0s\n",
      "5/5 [==============================] - 0s\n",
      "2/2 [==============================] - 0s\n",
      "4/4 [==============================] - 0s\n",
      "1/1 [==============================] - 0s\n",
      "4/4 [==============================] - 0s\n",
      "3/3 [==============================] - 0s\n",
      "3/3 [==============================] - 0s\n",
      "2/2 [==============================] - 0s\n",
      "7/7 [==============================] - 0s\n",
      "10/10 [==============================] - 0s\n",
      "3/3 [==============================] - 0s\n",
      "3/3 [==============================] - 0s\n",
      "2/2 [==============================] - 0s\n",
      "2/2 [==============================] - 0s\n",
      "3/3 [==============================] - 0s\n",
      "3/3 [==============================] - 0s\n",
      "5/5 [==============================] - 0s\n",
      "5/5 [==============================] - 0s\n",
      "3/3 [==============================] - 0s\n",
      "3/3 [==============================] - 0s\n",
      "3/3 [==============================] - 0s\n",
      "4/4 [==============================] - 0s\n",
      "4/4 [==============================] - 0s\n",
      "2/2 [==============================] - 0s\n",
      "6/6 [==============================] - 0s\n",
      "4/4 [==============================] - 0s\n",
      "5/5 [==============================] - 0s\n",
      "3/3 [==============================] - 0s\n",
      "4/4 [==============================] - 0s\n",
      "2/2 [==============================] - 0s\n",
      "3/3 [==============================] - 0s\n",
      "4/4 [==============================] - 0s\n",
      "2/2 [==============================] - 0s\n",
      "3/3 [==============================] - 0s\n",
      "2/2 [==============================] - 0s\n",
      "3/3 [==============================] - 0s\n",
      "4/4 [==============================] - 0s\n",
      "2/2 [==============================] - 0s\n",
      "3/3 [==============================] - 0s\n",
      "4/4 [==============================] - 0s\n",
      "4/4 [==============================] - 0s\n",
      "4/4 [==============================] - 0s\n",
      "3/3 [==============================] - 0s\n",
      "3/3 [==============================] - 0s\n",
      "4/4 [==============================] - 0s\n",
      "3/3 [==============================] - 0s\n",
      "2/2 [==============================] - 0s\n",
      "4/4 [==============================] - 0s\n",
      "2/2 [==============================] - 0s\n",
      "5/5 [==============================] - 0s\n",
      "1/1 [==============================] - 0s\n",
      "3/3 [==============================] - 0s\n",
      "3/3 [==============================] - 0s\n",
      "3/3 [==============================] - 0s\n",
      "2/2 [==============================] - 0s\n",
      "3/3 [==============================] - 0s\n",
      "1/1 [==============================] - 0s\n",
      "2/2 [==============================] - 0s\n",
      "4/4 [==============================] - 0s\n",
      "4/4 [==============================] - 0s\n",
      "2/2 [==============================] - 0s\n",
      "2/2 [==============================] - 0s\n",
      "3/3 [==============================] - 0s\n",
      "4/4 [==============================] - 0s\n",
      "2/2 [==============================] - 0s\n",
      "4/4 [==============================] - 0s\n",
      "4/4 [==============================] - 0s\n",
      "4/4 [==============================] - 0s\n",
      "2/2 [==============================] - 0s\n",
      "5/5 [==============================] - 0s\n",
      "4/4 [==============================] - 0s\n",
      "3/3 [==============================] - 0s\n",
      "4/4 [==============================] - 0s\n",
      "5/5 [==============================] - 0s\n",
      "3/3 [==============================] - 0s\n",
      "3/3 [==============================] - 0s\n",
      "5/5 [==============================] - 0s\n",
      "7/7 [==============================] - 0s\n",
      "2/2 [==============================] - 0s\n",
      "4/4 [==============================] - 0s\n",
      "5/5 [==============================] - 0s\n",
      "4/4 [==============================] - 0s\n",
      "1/1 [==============================] - 0s\n",
      "2/2 [==============================] - 0s\n",
      "2/2 [==============================] - 0s\n",
      "4/4 [==============================] - 0s\n",
      "4/4 [==============================] - 0s\n",
      "6/6 [==============================] - 0s\n",
      "4/4 [==============================] - 0s\n",
      "3/3 [==============================] - 0s\n",
      "5/5 [==============================] - 0s\n",
      "3/3 [==============================] - 0s\n",
      "3/3 [==============================] - 0s\n",
      "6/6 [==============================] - 0s\n",
      "5/5 [==============================] - 0s\n",
      "4/4 [==============================] - 0s\n",
      "3/3 [==============================] - 0s\n",
      "5/5 [==============================] - 0s\n",
      "6/6 [==============================] - 0s\n",
      "4/4 [==============================] - 0s\n",
      "2/2 [==============================] - 0s\n",
      "4/4 [==============================] - 0s\n",
      "3/3 [==============================] - 0s\n",
      "4/4 [==============================] - 0s\n",
      "5/5 [==============================] - 0s\n",
      "5/5 [==============================] - 0s\n",
      "10/10 [==============================] - 0s\n",
      "4/4 [==============================] - 0s\n",
      "4/4 [==============================] - 0s\n",
      "3/3 [==============================] - 0s\n",
      "2/2 [==============================] - 0s\n",
      "7/7 [==============================] - 0s\n",
      "4/4 [==============================] - 0s\n",
      "4/4 [==============================] - 0s\n",
      "2/2 [==============================] - 0s\n",
      "6/6 [==============================] - 0s\n",
      "2/2 [==============================] - 0s\n",
      "5/5 [==============================] - 0s\n",
      "1/1 [==============================] - 0s\n",
      "2/2 [==============================] - 0s\n",
      "2/2 [==============================] - 0s\n",
      "4/4 [==============================] - 0s\n",
      "5/5 [==============================] - 0s\n",
      "5/5 [==============================] - 0s\n",
      "3/3 [==============================] - 0s\n",
      "3/3 [==============================] - 0s\n",
      "2/2 [==============================] - 0s\n",
      "4/4 [==============================] - 0s\n",
      "3/3 [==============================] - 0s\n",
      "4/4 [==============================] - 0s\n",
      "3/3 [==============================] - 0s\n",
      "4/4 [==============================] - 0s\n",
      "4/4 [==============================] - 0s\n",
      "4/4 [==============================] - 0s\n",
      "2/2 [==============================] - 0s\n",
      "1/1 [==============================] - 0s\n",
      "2/2 [==============================] - 0s\n",
      "1/1 [==============================] - 0s\n",
      "3/3 [==============================] - 0s\n",
      "3/3 [==============================] - 0s\n",
      "3/3 [==============================] - 0s\n",
      "3/3 [==============================] - 0s\n",
      "2/2 [==============================] - 0s\n",
      "4/4 [==============================] - 0s\n",
      "4/4 [==============================] - 0s\n",
      "2/2 [==============================] - 0s\n",
      "3/3 [==============================] - 0s\n",
      "5/5 [==============================] - 0s\n",
      "3/3 [==============================] - 0s\n",
      "1/1 [==============================] - 0s\n",
      "6/6 [==============================] - 0s\n",
      "2/2 [==============================] - 0s\n",
      "3/3 [==============================] - 0s\n",
      "2/2 [==============================] - 0s\n",
      "2/2 [==============================] - 0s\n",
      "4/4 [==============================] - 0s\n",
      "4/4 [==============================] - 0s\n",
      "2/2 [==============================] - 0s\n",
      "3/3 [==============================] - 0s\n",
      "3/3 [==============================] - 0s\n",
      "4/4 [==============================] - 0s\n"
     ]
    }
   ],
   "source": [
    "maligs = np.load('malig_cropped.npy')\n",
    "\n",
    "stats = []\n",
    "for m in maligs:\n",
    "    res = model.predict_classes(preprocess(np.array(list(map(lambda slice: slice['roi'], m)))))\n",
    "    stats.append(res)"
   ]
  },
  {
   "cell_type": "code",
   "execution_count": 74,
   "metadata": {
    "collapsed": false,
    "deletable": true,
    "editable": true
   },
   "outputs": [
    {
     "data": {
      "image/png": "[encoded data removed]",
      "text/plain": [
       "<matplotlib.figure.Figure object at 0x7f8585634ac8>"
      ]
     },
     "metadata": {},
     "output_type": "display_data"
    }
   ],
   "source": [
    "mmm = [s.sum() / len(s) for s in stats]\n",
    "\n",
    "plt.plot(mmm, 'rx')\n",
    "plt.show()"
   ]
  },
  {
   "cell_type": "code",
   "execution_count": 72,
   "metadata": {
    "collapsed": true,
    "deletable": true,
    "editable": true
   },
   "outputs": [],
   "source": [
    "def preprocess(X):\n",
    "    num = X.shape[0]\n",
    "    X = X ** 0.5\n",
    "    X = (X - np.max(X) / 2) / np.max(X)\n",
    "    X = X.reshape(num, 80, 80, 1)\n",
    "    return X"
   ]
  },
  {
   "cell_type": "code",
   "execution_count": 182,
   "metadata": {
    "collapsed": true,
    "deletable": true,
    "editable": true
   },
   "outputs": [],
   "source": [
    "datagen = ImageDataGenerator(\n",
    "    rotation_range=30,\n",
    "    width_shift_range=0.3,\n",
    "    height_shift_range=0.3,\n",
    "    horizontal_flip=True,\n",
    "    vertical_flip=True,\n",
    "    fill_mode='constant',\n",
    "    cval=-1\n",
    ")\n",
    "\n",
    "gen = datagen.flow(X, y, batch_size=128)"
   ]
  },
  {
   "cell_type": "code",
   "execution_count": null,
   "metadata": {
    "collapsed": false,
    "deletable": true,
    "editable": true
   },
   "outputs": [],
   "source": [
    "xx, yy = next(gen)\n",
    "model.evaluate(xx, yy)"
   ]
  },
  {
   "cell_type": "code",
   "execution_count": 177,
   "metadata": {
    "collapsed": false,
    "deletable": true,
    "editable": true
   },
   "outputs": [
    {
     "data": {
      "image/png": "[encoded data removed]",
      "text/plain": [
       "<matplotlib.figure.Figure object at 0x7f858566d550>"
      ]
     },
     "metadata": {},
     "output_type": "display_data"
    }
   ],
   "source": [
    "xx, yy = next(gen)\n",
    "plt.imshow(xx[0].reshape(80,80), plt.cm.bone)\n",
    "plt.show()"
   ]
  },
  {
   "cell_type": "code",
   "execution_count": 14,
   "metadata": {
    "collapsed": false,
    "deletable": true,
    "editable": true
   },
   "outputs": [
    {
     "data": {
      "text/plain": [
       "<keras.models.Sequential at 0x7f3491ba6320>"
      ]
     },
     "execution_count": 14,
     "metadata": {},
     "output_type": "execute_result"
    }
   ],
   "source": [
    "model"
   ]
  },
  {
   "cell_type": "code",
   "execution_count": 36,
   "metadata": {
    "collapsed": false,
    "deletable": true,
    "editable": true
   },
   "outputs": [
    {
     "name": "stdout",
     "output_type": "stream",
     "text": [
      "192/192 [==============================] - 0s     \b\b\b\b\b\b\b\b\b\b\b\b\b\b\b\b\b\b\b\b\b\b\b\b\b\b\b\b\b\b\b\b\b\b\b\b\b\b\b\b\b\b\b\b\b\b\b\b\b\b\b\b\b\b\b\b\b\b\b\b\b\b\b\b\b\b\b\b\b\b\b\b\b\b\b\b\b\b\b\b\b\b\b\b\b\b\b\b\b\b\b\b\b\b\b\b\b\b\b\b\b\b\b\b\b\b\b\b\b\b\b\b\b\b\b\b\b\b\b\b\b\b\b\b\b\b\b\b\b\b\b\b\b\b\b\b\b\b\b\b\b\b\b\b\b\b\b\b\b\b\b\b\b\b\b\b\b\b\b\b\b\b\b\b\b\b\b\b\b\b\b\b\b\b\b\b\b\b\b\b\b\b\b\b\b\b\b\b\b\b\b\b\b\b\b\b\b\b\b\b\b\b\b\b\b\b\b\b\b\b\b\b\b\b\b\b\b\b\b\b\b\b\b\b\b\b\b\b\b\b\b\b\b\b\b\b\b\b\b\b\b\b\b\b\b\b\b\b\b\b\n",
      "validation loss: 1.286353\t prec: 0.869792\trecall: 0.869792\n"
     ]
    }
   ],
   "source": [
    "evaluate(model)"
   ]
  },
  {
   "cell_type": "code",
   "execution_count": 37,
   "metadata": {
    "collapsed": true,
    "deletable": true,
    "editable": true
   },
   "outputs": [],
   "source": [
    "model.save('model-babystep2-ternary-classification.h5')"
   ]
  },
  {
   "cell_type": "code",
   "execution_count": 9,
   "metadata": {
    "collapsed": false,
    "deletable": true,
    "editable": true
   },
   "outputs": [
    {
     "data": {
      "text/plain": [
       "array([[1, 2, 3, 1, 2, 3, 1, 2, 3]])"
      ]
     },
     "execution_count": 9,
     "metadata": {},
     "output_type": "execute_result"
    }
   ],
   "source": [
    "np.tile(np.array([1,2,3]), (1,3))"
   ]
  },
  {
   "cell_type": "code",
   "execution_count": null,
   "metadata": {
    "collapsed": true,
    "deletable": true,
    "editable": true
   },
   "outputs": [],
   "source": []
  }
 ],
 "metadata": {
  "kernelspec": {
   "display_name": "Python 3",
   "language": "python",
   "name": "python3"
  },
  "language_info": {
   "codemirror_mode": {
    "name": "ipython",
    "version": 3
   },
   "file_extension": ".py",
   "mimetype": "text/x-python",
   "name": "python",
   "nbconvert_exporter": "python",
   "pygments_lexer": "ipython3",
   "version": "3.5.2"
  }
 },
 "nbformat": 4,
 "nbformat_minor": 2
}
